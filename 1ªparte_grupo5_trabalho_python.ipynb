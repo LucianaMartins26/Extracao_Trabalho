{
 "cells": [
  {
   "cell_type": "markdown",
   "metadata": {},
   "source": [
    "## Trabalho Python - Extração de Conhecimento de Dados Biológicos"
   ]
  },
  {
   "cell_type": "markdown",
   "metadata": {},
   "source": [
    "Ana Lisboa pg49831\\\n",
    "Angelina Eiras pg42861\\\n",
    "Bruna Almeida pg51187\\\n",
    "Luciana Martins pg49839"
   ]
  },
  {
   "cell_type": "markdown",
   "metadata": {},
   "source": [
    "### Explicação dos Dados"
   ]
  },
  {
   "cell_type": "markdown",
   "metadata": {},
   "source": [
    "A CYP2C9 é a enzima da subfamília CYP2C mais abundante no fígado humano e a que mais contribui para o metabolismo dos fármacos. Os polimorfismos que resultam numa diminuição da atividade enzimática são comuns no gene CYP2C9, o que, combinado com índices terapêuticos estreitos para vários substratos de fármacos essenciais, resulta em algumas questões importantes relacionadas com a segurança e a eficácia dos fármacos.\\\n",
    "Os genes CYP P450 estão envolvidos na formação e decomposição (metabolismo) de várias moléculas e substâncias químicas nas células. Especificamente, o CYP P450 2C9 desempenha um papel importante na oxidação de compostos xenobióticos e endógenos.\\\n",
    "Trabalhamos com dois datasets, ```'cyp2c9.csv'``` que contém uma classificação binária: dada uma cadeia _SMILES_ de medicamentos, __prevê a inibição__ do CYP2C9 e ainda ```'cyp2c9_features.csv'``` que contém vários atributos / características presentes em cada um dos _ids_."
   ]
  },
  {
   "cell_type": "code",
   "execution_count": 75,
   "metadata": {},
   "outputs": [],
   "source": [
    "import pandas as pd\n",
    "import matplotlib.pyplot\n",
    "from pandas.core.computation.check import NUMEXPR_INSTALLED\n",
    "\n",
    "\n",
    "data_features = pd.read_csv('cyp2c9_features.csv',sep=',', index_col = 0)\n",
    "data = pd.read_csv('cyp2c9.csv',sep=',', index_col = 0)"
   ]
  },
  {
   "cell_type": "markdown",
   "metadata": {},
   "source": [
    "### Exploração dos Dados"
   ]
  },
  {
   "cell_type": "code",
   "execution_count": 2,
   "metadata": {},
   "outputs": [
    {
     "name": "stdout",
     "output_type": "stream",
     "text": [
      "(11934, 2)\n",
      "(11934, 207)\n"
     ]
    }
   ],
   "source": [
    "print (data.shape)\n",
    "print (data_features.shape)"
   ]
  },
  {
   "cell_type": "code",
   "execution_count": 3,
   "metadata": {},
   "outputs": [
    {
     "data": {
      "text/html": [
       "<div>\n",
       "<style scoped>\n",
       "    .dataframe tbody tr th:only-of-type {\n",
       "        vertical-align: middle;\n",
       "    }\n",
       "\n",
       "    .dataframe tbody tr th {\n",
       "        vertical-align: top;\n",
       "    }\n",
       "\n",
       "    .dataframe thead th {\n",
       "        text-align: right;\n",
       "    }\n",
       "</style>\n",
       "<table border=\"1\" class=\"dataframe\">\n",
       "  <thead>\n",
       "    <tr style=\"text-align: right;\">\n",
       "      <th></th>\n",
       "      <th>smiles</th>\n",
       "      <th>Y</th>\n",
       "    </tr>\n",
       "    <tr>\n",
       "      <th>ids</th>\n",
       "      <th></th>\n",
       "      <th></th>\n",
       "    </tr>\n",
       "  </thead>\n",
       "  <tbody>\n",
       "    <tr>\n",
       "      <th>1960010.0</th>\n",
       "      <td>CCN1C(=O)/C(=C2\\SC(=S)N(CCCOC)C2=O)c2ccccc21</td>\n",
       "      <td>1</td>\n",
       "    </tr>\n",
       "    <tr>\n",
       "      <th>644851.0</th>\n",
       "      <td>Clc1ccccc1-c1nc(-c2ccccc2)n[nH]1</td>\n",
       "      <td>1</td>\n",
       "    </tr>\n",
       "    <tr>\n",
       "      <th>644890.0</th>\n",
       "      <td>COc1ccccc1C(c1nnnn1C(C)(C)C)N1CCN(Cc2ccncc2)CC1</td>\n",
       "      <td>1</td>\n",
       "    </tr>\n",
       "    <tr>\n",
       "      <th>644968.0</th>\n",
       "      <td>COc1ccccc1CNC(=O)Cn1nnc(-c2ccncc2)n1</td>\n",
       "      <td>1</td>\n",
       "    </tr>\n",
       "    <tr>\n",
       "      <th>645164.0</th>\n",
       "      <td>CCC(c1nnnn1CC1CCCO1)N(CCN1CCOCC1)Cc1cc2cc(C)cc...</td>\n",
       "      <td>0</td>\n",
       "    </tr>\n",
       "    <tr>\n",
       "      <th>...</th>\n",
       "      <td>...</td>\n",
       "      <td>...</td>\n",
       "    </tr>\n",
       "    <tr>\n",
       "      <th>16758814.0</th>\n",
       "      <td>CCN1C(=O)[C@@H]2[C@@H](CC[C@@H]3C(=O)C=C[C@@H]...</td>\n",
       "      <td>0</td>\n",
       "    </tr>\n",
       "    <tr>\n",
       "      <th>16758815.0</th>\n",
       "      <td>C=CC1=C[C@@H](O)[C@@H]2O[C@@H]2C12OCCCO2</td>\n",
       "      <td>0</td>\n",
       "    </tr>\n",
       "    <tr>\n",
       "      <th>16758816.0</th>\n",
       "      <td>O=C1[C@H]2CC=C3[C@@H]([C@H](O)[C@H]4O[C@@H]4C3...</td>\n",
       "      <td>0</td>\n",
       "    </tr>\n",
       "    <tr>\n",
       "      <th>16758818.0</th>\n",
       "      <td>C[C@H](c1ccccc1)N1C(=O)[C@@H]2[C@@H](CC[C@@H]3...</td>\n",
       "      <td>0</td>\n",
       "    </tr>\n",
       "    <tr>\n",
       "      <th>10847630.0</th>\n",
       "      <td>COC(=O)NC/C=C\\c1nc(CCCO)co1</td>\n",
       "      <td>0</td>\n",
       "    </tr>\n",
       "  </tbody>\n",
       "</table>\n",
       "<p>11934 rows × 2 columns</p>\n",
       "</div>"
      ],
      "text/plain": [
       "                                                       smiles  Y\n",
       "ids                                                             \n",
       "1960010.0        CCN1C(=O)/C(=C2\\SC(=S)N(CCCOC)C2=O)c2ccccc21  1\n",
       "644851.0                     Clc1ccccc1-c1nc(-c2ccccc2)n[nH]1  1\n",
       "644890.0      COc1ccccc1C(c1nnnn1C(C)(C)C)N1CCN(Cc2ccncc2)CC1  1\n",
       "644968.0                 COc1ccccc1CNC(=O)Cn1nnc(-c2ccncc2)n1  1\n",
       "645164.0    CCC(c1nnnn1CC1CCCO1)N(CCN1CCOCC1)Cc1cc2cc(C)cc...  0\n",
       "...                                                       ... ..\n",
       "16758814.0  CCN1C(=O)[C@@H]2[C@@H](CC[C@@H]3C(=O)C=C[C@@H]...  0\n",
       "16758815.0           C=CC1=C[C@@H](O)[C@@H]2O[C@@H]2C12OCCCO2  0\n",
       "16758816.0  O=C1[C@H]2CC=C3[C@@H]([C@H](O)[C@H]4O[C@@H]4C3...  0\n",
       "16758818.0  C[C@H](c1ccccc1)N1C(=O)[C@@H]2[C@@H](CC[C@@H]3...  0\n",
       "10847630.0                        COC(=O)NC/C=C\\c1nc(CCCO)co1  0\n",
       "\n",
       "[11934 rows x 2 columns]"
      ]
     },
     "execution_count": 3,
     "metadata": {},
     "output_type": "execute_result"
    }
   ],
   "source": [
    "data"
   ]
  },
  {
   "cell_type": "code",
   "execution_count": 4,
   "metadata": {},
   "outputs": [
    {
     "data": {
      "text/html": [
       "<div>\n",
       "<style scoped>\n",
       "    .dataframe tbody tr th:only-of-type {\n",
       "        vertical-align: middle;\n",
       "    }\n",
       "\n",
       "    .dataframe tbody tr th {\n",
       "        vertical-align: top;\n",
       "    }\n",
       "\n",
       "    .dataframe thead th {\n",
       "        text-align: right;\n",
       "    }\n",
       "</style>\n",
       "<table border=\"1\" class=\"dataframe\">\n",
       "  <thead>\n",
       "    <tr style=\"text-align: right;\">\n",
       "      <th></th>\n",
       "      <th>Y</th>\n",
       "    </tr>\n",
       "  </thead>\n",
       "  <tbody>\n",
       "    <tr>\n",
       "      <th>count</th>\n",
       "      <td>11934.000000</td>\n",
       "    </tr>\n",
       "    <tr>\n",
       "      <th>mean</th>\n",
       "      <td>0.337272</td>\n",
       "    </tr>\n",
       "    <tr>\n",
       "      <th>std</th>\n",
       "      <td>0.472798</td>\n",
       "    </tr>\n",
       "    <tr>\n",
       "      <th>min</th>\n",
       "      <td>0.000000</td>\n",
       "    </tr>\n",
       "    <tr>\n",
       "      <th>25%</th>\n",
       "      <td>0.000000</td>\n",
       "    </tr>\n",
       "    <tr>\n",
       "      <th>50%</th>\n",
       "      <td>0.000000</td>\n",
       "    </tr>\n",
       "    <tr>\n",
       "      <th>75%</th>\n",
       "      <td>1.000000</td>\n",
       "    </tr>\n",
       "    <tr>\n",
       "      <th>max</th>\n",
       "      <td>1.000000</td>\n",
       "    </tr>\n",
       "  </tbody>\n",
       "</table>\n",
       "</div>"
      ],
      "text/plain": [
       "                  Y\n",
       "count  11934.000000\n",
       "mean       0.337272\n",
       "std        0.472798\n",
       "min        0.000000\n",
       "25%        0.000000\n",
       "50%        0.000000\n",
       "75%        1.000000\n",
       "max        1.000000"
      ]
     },
     "execution_count": 4,
     "metadata": {},
     "output_type": "execute_result"
    }
   ],
   "source": [
    "data.describe()"
   ]
  },
  {
   "cell_type": "code",
   "execution_count": 5,
   "metadata": {},
   "outputs": [],
   "source": [
    "df = data_features.reset_index()"
   ]
  },
  {
   "cell_type": "code",
   "execution_count": 6,
   "metadata": {},
   "outputs": [
    {
     "data": {
      "text/html": [
       "<div>\n",
       "<style scoped>\n",
       "    .dataframe tbody tr th:only-of-type {\n",
       "        vertical-align: middle;\n",
       "    }\n",
       "\n",
       "    .dataframe tbody tr th {\n",
       "        vertical-align: top;\n",
       "    }\n",
       "\n",
       "    .dataframe thead th {\n",
       "        text-align: right;\n",
       "    }\n",
       "</style>\n",
       "<table border=\"1\" class=\"dataframe\">\n",
       "  <thead>\n",
       "    <tr style=\"text-align: right;\">\n",
       "      <th></th>\n",
       "      <th>MaxEStateIndex</th>\n",
       "      <th>MinEStateIndex</th>\n",
       "      <th>MaxAbsEStateIndex</th>\n",
       "      <th>MinAbsEStateIndex</th>\n",
       "      <th>qed</th>\n",
       "      <th>MolWt</th>\n",
       "      <th>HeavyAtomMolWt</th>\n",
       "      <th>ExactMolWt</th>\n",
       "      <th>NumValenceElectrons</th>\n",
       "      <th>NumRadicalElectrons</th>\n",
       "      <th>...</th>\n",
       "      <th>fr_sulfide</th>\n",
       "      <th>fr_sulfonamd</th>\n",
       "      <th>fr_sulfone</th>\n",
       "      <th>fr_term_acetylene</th>\n",
       "      <th>fr_tetrazole</th>\n",
       "      <th>fr_thiazole</th>\n",
       "      <th>fr_thiocyan</th>\n",
       "      <th>fr_thiophene</th>\n",
       "      <th>fr_unbrch_alkane</th>\n",
       "      <th>fr_urea</th>\n",
       "    </tr>\n",
       "  </thead>\n",
       "  <tbody>\n",
       "    <tr>\n",
       "      <th>count</th>\n",
       "      <td>11934.000000</td>\n",
       "      <td>11934.000000</td>\n",
       "      <td>11934.000000</td>\n",
       "      <td>11934.000000</td>\n",
       "      <td>11934.000000</td>\n",
       "      <td>11934.000000</td>\n",
       "      <td>11934.000000</td>\n",
       "      <td>11934.000000</td>\n",
       "      <td>11934.000000</td>\n",
       "      <td>11934.0</td>\n",
       "      <td>...</td>\n",
       "      <td>11934.000000</td>\n",
       "      <td>11934.000000</td>\n",
       "      <td>11934.000000</td>\n",
       "      <td>11934.000000</td>\n",
       "      <td>11934.000000</td>\n",
       "      <td>11934.000000</td>\n",
       "      <td>11934.000000</td>\n",
       "      <td>11934.000000</td>\n",
       "      <td>11934.000000</td>\n",
       "      <td>11934.000000</td>\n",
       "    </tr>\n",
       "    <tr>\n",
       "      <th>mean</th>\n",
       "      <td>11.274808</td>\n",
       "      <td>-0.879382</td>\n",
       "      <td>11.274808</td>\n",
       "      <td>0.192623</td>\n",
       "      <td>0.611521</td>\n",
       "      <td>355.016700</td>\n",
       "      <td>334.581007</td>\n",
       "      <td>354.626917</td>\n",
       "      <td>131.051114</td>\n",
       "      <td>0.0</td>\n",
       "      <td>...</td>\n",
       "      <td>0.101894</td>\n",
       "      <td>0.073571</td>\n",
       "      <td>0.011061</td>\n",
       "      <td>0.004190</td>\n",
       "      <td>0.009804</td>\n",
       "      <td>0.032261</td>\n",
       "      <td>0.000168</td>\n",
       "      <td>0.062929</td>\n",
       "      <td>0.127786</td>\n",
       "      <td>0.044076</td>\n",
       "    </tr>\n",
       "    <tr>\n",
       "      <th>std</th>\n",
       "      <td>2.689638</td>\n",
       "      <td>1.442954</td>\n",
       "      <td>2.689638</td>\n",
       "      <td>0.224866</td>\n",
       "      <td>0.191307</td>\n",
       "      <td>108.988404</td>\n",
       "      <td>103.017461</td>\n",
       "      <td>108.873587</td>\n",
       "      <td>40.828041</td>\n",
       "      <td>0.0</td>\n",
       "      <td>...</td>\n",
       "      <td>0.325473</td>\n",
       "      <td>0.271160</td>\n",
       "      <td>0.104592</td>\n",
       "      <td>0.064595</td>\n",
       "      <td>0.101878</td>\n",
       "      <td>0.189071</td>\n",
       "      <td>0.012945</td>\n",
       "      <td>0.250991</td>\n",
       "      <td>0.774506</td>\n",
       "      <td>0.213281</td>\n",
       "    </tr>\n",
       "    <tr>\n",
       "      <th>min</th>\n",
       "      <td>2.269884</td>\n",
       "      <td>-7.603764</td>\n",
       "      <td>2.269884</td>\n",
       "      <td>0.000000</td>\n",
       "      <td>0.021258</td>\n",
       "      <td>33.030000</td>\n",
       "      <td>30.006000</td>\n",
       "      <td>33.021465</td>\n",
       "      <td>14.000000</td>\n",
       "      <td>0.0</td>\n",
       "      <td>...</td>\n",
       "      <td>0.000000</td>\n",
       "      <td>0.000000</td>\n",
       "      <td>0.000000</td>\n",
       "      <td>0.000000</td>\n",
       "      <td>0.000000</td>\n",
       "      <td>0.000000</td>\n",
       "      <td>0.000000</td>\n",
       "      <td>0.000000</td>\n",
       "      <td>0.000000</td>\n",
       "      <td>0.000000</td>\n",
       "    </tr>\n",
       "    <tr>\n",
       "      <th>25%</th>\n",
       "      <td>10.896393</td>\n",
       "      <td>-1.063285</td>\n",
       "      <td>10.896393</td>\n",
       "      <td>0.043124</td>\n",
       "      <td>0.481696</td>\n",
       "      <td>289.292000</td>\n",
       "      <td>272.175000</td>\n",
       "      <td>289.024430</td>\n",
       "      <td>106.000000</td>\n",
       "      <td>0.0</td>\n",
       "      <td>...</td>\n",
       "      <td>0.000000</td>\n",
       "      <td>0.000000</td>\n",
       "      <td>0.000000</td>\n",
       "      <td>0.000000</td>\n",
       "      <td>0.000000</td>\n",
       "      <td>0.000000</td>\n",
       "      <td>0.000000</td>\n",
       "      <td>0.000000</td>\n",
       "      <td>0.000000</td>\n",
       "      <td>0.000000</td>\n",
       "    </tr>\n",
       "    <tr>\n",
       "      <th>50%</th>\n",
       "      <td>12.242406</td>\n",
       "      <td>-0.402087</td>\n",
       "      <td>12.242406</td>\n",
       "      <td>0.116725</td>\n",
       "      <td>0.632182</td>\n",
       "      <td>347.435000</td>\n",
       "      <td>327.159000</td>\n",
       "      <td>347.133635</td>\n",
       "      <td>128.000000</td>\n",
       "      <td>0.0</td>\n",
       "      <td>...</td>\n",
       "      <td>0.000000</td>\n",
       "      <td>0.000000</td>\n",
       "      <td>0.000000</td>\n",
       "      <td>0.000000</td>\n",
       "      <td>0.000000</td>\n",
       "      <td>0.000000</td>\n",
       "      <td>0.000000</td>\n",
       "      <td>0.000000</td>\n",
       "      <td>0.000000</td>\n",
       "      <td>0.000000</td>\n",
       "    </tr>\n",
       "    <tr>\n",
       "      <th>75%</th>\n",
       "      <td>12.924319</td>\n",
       "      <td>-0.062750</td>\n",
       "      <td>12.924319</td>\n",
       "      <td>0.237865</td>\n",
       "      <td>0.772312</td>\n",
       "      <td>409.507250</td>\n",
       "      <td>386.231750</td>\n",
       "      <td>409.140095</td>\n",
       "      <td>152.000000</td>\n",
       "      <td>0.0</td>\n",
       "      <td>...</td>\n",
       "      <td>0.000000</td>\n",
       "      <td>0.000000</td>\n",
       "      <td>0.000000</td>\n",
       "      <td>0.000000</td>\n",
       "      <td>0.000000</td>\n",
       "      <td>0.000000</td>\n",
       "      <td>0.000000</td>\n",
       "      <td>0.000000</td>\n",
       "      <td>0.000000</td>\n",
       "      <td>0.000000</td>\n",
       "    </tr>\n",
       "    <tr>\n",
       "      <th>max</th>\n",
       "      <td>17.398045</td>\n",
       "      <td>3.500000</td>\n",
       "      <td>17.398045</td>\n",
       "      <td>3.811700</td>\n",
       "      <td>0.947210</td>\n",
       "      <td>1664.922000</td>\n",
       "      <td>1579.242000</td>\n",
       "      <td>1663.492300</td>\n",
       "      <td>606.000000</td>\n",
       "      <td>0.0</td>\n",
       "      <td>...</td>\n",
       "      <td>4.000000</td>\n",
       "      <td>3.000000</td>\n",
       "      <td>1.000000</td>\n",
       "      <td>1.000000</td>\n",
       "      <td>2.000000</td>\n",
       "      <td>4.000000</td>\n",
       "      <td>1.000000</td>\n",
       "      <td>2.000000</td>\n",
       "      <td>26.000000</td>\n",
       "      <td>4.000000</td>\n",
       "    </tr>\n",
       "  </tbody>\n",
       "</table>\n",
       "<p>8 rows × 208 columns</p>\n",
       "</div>"
      ],
      "text/plain": [
       "       MaxEStateIndex  MinEStateIndex  MaxAbsEStateIndex  MinAbsEStateIndex  \\\n",
       "count    11934.000000    11934.000000       11934.000000       11934.000000   \n",
       "mean        11.274808       -0.879382          11.274808           0.192623   \n",
       "std          2.689638        1.442954           2.689638           0.224866   \n",
       "min          2.269884       -7.603764           2.269884           0.000000   \n",
       "25%         10.896393       -1.063285          10.896393           0.043124   \n",
       "50%         12.242406       -0.402087          12.242406           0.116725   \n",
       "75%         12.924319       -0.062750          12.924319           0.237865   \n",
       "max         17.398045        3.500000          17.398045           3.811700   \n",
       "\n",
       "                qed         MolWt  HeavyAtomMolWt    ExactMolWt  \\\n",
       "count  11934.000000  11934.000000    11934.000000  11934.000000   \n",
       "mean       0.611521    355.016700      334.581007    354.626917   \n",
       "std        0.191307    108.988404      103.017461    108.873587   \n",
       "min        0.021258     33.030000       30.006000     33.021465   \n",
       "25%        0.481696    289.292000      272.175000    289.024430   \n",
       "50%        0.632182    347.435000      327.159000    347.133635   \n",
       "75%        0.772312    409.507250      386.231750    409.140095   \n",
       "max        0.947210   1664.922000     1579.242000   1663.492300   \n",
       "\n",
       "       NumValenceElectrons  NumRadicalElectrons  ...    fr_sulfide  \\\n",
       "count         11934.000000              11934.0  ...  11934.000000   \n",
       "mean            131.051114                  0.0  ...      0.101894   \n",
       "std              40.828041                  0.0  ...      0.325473   \n",
       "min              14.000000                  0.0  ...      0.000000   \n",
       "25%             106.000000                  0.0  ...      0.000000   \n",
       "50%             128.000000                  0.0  ...      0.000000   \n",
       "75%             152.000000                  0.0  ...      0.000000   \n",
       "max             606.000000                  0.0  ...      4.000000   \n",
       "\n",
       "       fr_sulfonamd    fr_sulfone  fr_term_acetylene  fr_tetrazole  \\\n",
       "count  11934.000000  11934.000000       11934.000000  11934.000000   \n",
       "mean       0.073571      0.011061           0.004190      0.009804   \n",
       "std        0.271160      0.104592           0.064595      0.101878   \n",
       "min        0.000000      0.000000           0.000000      0.000000   \n",
       "25%        0.000000      0.000000           0.000000      0.000000   \n",
       "50%        0.000000      0.000000           0.000000      0.000000   \n",
       "75%        0.000000      0.000000           0.000000      0.000000   \n",
       "max        3.000000      1.000000           1.000000      2.000000   \n",
       "\n",
       "        fr_thiazole   fr_thiocyan  fr_thiophene  fr_unbrch_alkane  \\\n",
       "count  11934.000000  11934.000000  11934.000000      11934.000000   \n",
       "mean       0.032261      0.000168      0.062929          0.127786   \n",
       "std        0.189071      0.012945      0.250991          0.774506   \n",
       "min        0.000000      0.000000      0.000000          0.000000   \n",
       "25%        0.000000      0.000000      0.000000          0.000000   \n",
       "50%        0.000000      0.000000      0.000000          0.000000   \n",
       "75%        0.000000      0.000000      0.000000          0.000000   \n",
       "max        4.000000      1.000000      2.000000         26.000000   \n",
       "\n",
       "            fr_urea  \n",
       "count  11934.000000  \n",
       "mean       0.044076  \n",
       "std        0.213281  \n",
       "min        0.000000  \n",
       "25%        0.000000  \n",
       "50%        0.000000  \n",
       "75%        0.000000  \n",
       "max        4.000000  \n",
       "\n",
       "[8 rows x 208 columns]"
      ]
     },
     "execution_count": 6,
     "metadata": {},
     "output_type": "execute_result"
    }
   ],
   "source": [
    "df.describe()"
   ]
  },
  {
   "cell_type": "code",
   "execution_count": 7,
   "metadata": {},
   "outputs": [
    {
     "data": {
      "text/plain": [
       "Float64Index([ 1960010.0,   644851.0,   644890.0,   644968.0,   645164.0,\n",
       "               6602688.0,  5768708.0,   645448.0,   645818.0,   645929.0,\n",
       "              ...\n",
       "              16758809.0, 16758810.0, 16758811.0, 16758812.0, 16758813.0,\n",
       "              16758814.0, 16758815.0, 16758816.0, 16758818.0, 10847630.0],\n",
       "             dtype='float64', name='ids', length=11934)"
      ]
     },
     "execution_count": 7,
     "metadata": {},
     "output_type": "execute_result"
    }
   ],
   "source": [
    "coluna_a_adicionar = data.index\n",
    "coluna_a_adicionar"
   ]
  },
  {
   "cell_type": "code",
   "execution_count": 8,
   "metadata": {},
   "outputs": [
    {
     "data": {
      "text/html": [
       "<div>\n",
       "<style scoped>\n",
       "    .dataframe tbody tr th:only-of-type {\n",
       "        vertical-align: middle;\n",
       "    }\n",
       "\n",
       "    .dataframe tbody tr th {\n",
       "        vertical-align: top;\n",
       "    }\n",
       "\n",
       "    .dataframe thead th {\n",
       "        text-align: right;\n",
       "    }\n",
       "</style>\n",
       "<table border=\"1\" class=\"dataframe\">\n",
       "  <thead>\n",
       "    <tr style=\"text-align: right;\">\n",
       "      <th></th>\n",
       "      <th>MaxEStateIndex</th>\n",
       "      <th>MinEStateIndex</th>\n",
       "      <th>MaxAbsEStateIndex</th>\n",
       "      <th>MinAbsEStateIndex</th>\n",
       "      <th>qed</th>\n",
       "      <th>MolWt</th>\n",
       "      <th>HeavyAtomMolWt</th>\n",
       "      <th>ExactMolWt</th>\n",
       "      <th>NumValenceElectrons</th>\n",
       "      <th>NumRadicalElectrons</th>\n",
       "      <th>...</th>\n",
       "      <th>fr_sulfide</th>\n",
       "      <th>fr_sulfonamd</th>\n",
       "      <th>fr_sulfone</th>\n",
       "      <th>fr_term_acetylene</th>\n",
       "      <th>fr_tetrazole</th>\n",
       "      <th>fr_thiazole</th>\n",
       "      <th>fr_thiocyan</th>\n",
       "      <th>fr_thiophene</th>\n",
       "      <th>fr_unbrch_alkane</th>\n",
       "      <th>fr_urea</th>\n",
       "    </tr>\n",
       "    <tr>\n",
       "      <th>ids</th>\n",
       "      <th></th>\n",
       "      <th></th>\n",
       "      <th></th>\n",
       "      <th></th>\n",
       "      <th></th>\n",
       "      <th></th>\n",
       "      <th></th>\n",
       "      <th></th>\n",
       "      <th></th>\n",
       "      <th></th>\n",
       "      <th></th>\n",
       "      <th></th>\n",
       "      <th></th>\n",
       "      <th></th>\n",
       "      <th></th>\n",
       "      <th></th>\n",
       "      <th></th>\n",
       "      <th></th>\n",
       "      <th></th>\n",
       "      <th></th>\n",
       "      <th></th>\n",
       "    </tr>\n",
       "  </thead>\n",
       "  <tbody>\n",
       "    <tr>\n",
       "      <th>1960010.0</th>\n",
       "      <td>12.820479</td>\n",
       "      <td>-0.183140</td>\n",
       "      <td>12.820479</td>\n",
       "      <td>0.128619</td>\n",
       "      <td>0.457873</td>\n",
       "      <td>362.476</td>\n",
       "      <td>344.332</td>\n",
       "      <td>362.07590</td>\n",
       "      <td>126.0</td>\n",
       "      <td>0.0</td>\n",
       "      <td>...</td>\n",
       "      <td>1.0</td>\n",
       "      <td>0.0</td>\n",
       "      <td>0.0</td>\n",
       "      <td>0.0</td>\n",
       "      <td>0.0</td>\n",
       "      <td>0.0</td>\n",
       "      <td>0.0</td>\n",
       "      <td>0.0</td>\n",
       "      <td>1.0</td>\n",
       "      <td>0.0</td>\n",
       "    </tr>\n",
       "    <tr>\n",
       "      <th>644851.0</th>\n",
       "      <td>6.126257</td>\n",
       "      <td>0.660427</td>\n",
       "      <td>6.126257</td>\n",
       "      <td>0.660427</td>\n",
       "      <td>0.756902</td>\n",
       "      <td>255.708</td>\n",
       "      <td>245.628</td>\n",
       "      <td>255.05632</td>\n",
       "      <td>88.0</td>\n",
       "      <td>0.0</td>\n",
       "      <td>...</td>\n",
       "      <td>0.0</td>\n",
       "      <td>0.0</td>\n",
       "      <td>0.0</td>\n",
       "      <td>0.0</td>\n",
       "      <td>0.0</td>\n",
       "      <td>0.0</td>\n",
       "      <td>0.0</td>\n",
       "      <td>0.0</td>\n",
       "      <td>0.0</td>\n",
       "      <td>0.0</td>\n",
       "    </tr>\n",
       "    <tr>\n",
       "      <th>644890.0</th>\n",
       "      <td>5.719940</td>\n",
       "      <td>-0.219974</td>\n",
       "      <td>5.719940</td>\n",
       "      <td>0.075509</td>\n",
       "      <td>0.605920</td>\n",
       "      <td>421.549</td>\n",
       "      <td>390.301</td>\n",
       "      <td>421.25900</td>\n",
       "      <td>164.0</td>\n",
       "      <td>0.0</td>\n",
       "      <td>...</td>\n",
       "      <td>0.0</td>\n",
       "      <td>0.0</td>\n",
       "      <td>0.0</td>\n",
       "      <td>0.0</td>\n",
       "      <td>1.0</td>\n",
       "      <td>0.0</td>\n",
       "      <td>0.0</td>\n",
       "      <td>0.0</td>\n",
       "      <td>0.0</td>\n",
       "      <td>0.0</td>\n",
       "    </tr>\n",
       "    <tr>\n",
       "      <th>644968.0</th>\n",
       "      <td>12.040634</td>\n",
       "      <td>-0.208718</td>\n",
       "      <td>12.040634</td>\n",
       "      <td>0.006714</td>\n",
       "      <td>0.728361</td>\n",
       "      <td>324.344</td>\n",
       "      <td>308.216</td>\n",
       "      <td>324.13348</td>\n",
       "      <td>122.0</td>\n",
       "      <td>0.0</td>\n",
       "      <td>...</td>\n",
       "      <td>0.0</td>\n",
       "      <td>0.0</td>\n",
       "      <td>0.0</td>\n",
       "      <td>0.0</td>\n",
       "      <td>1.0</td>\n",
       "      <td>0.0</td>\n",
       "      <td>0.0</td>\n",
       "      <td>0.0</td>\n",
       "      <td>0.0</td>\n",
       "      <td>0.0</td>\n",
       "    </tr>\n",
       "    <tr>\n",
       "      <th>645164.0</th>\n",
       "      <td>13.082813</td>\n",
       "      <td>-0.044883</td>\n",
       "      <td>13.082813</td>\n",
       "      <td>0.018472</td>\n",
       "      <td>0.457249</td>\n",
       "      <td>495.628</td>\n",
       "      <td>458.332</td>\n",
       "      <td>495.29578</td>\n",
       "      <td>194.0</td>\n",
       "      <td>0.0</td>\n",
       "      <td>...</td>\n",
       "      <td>0.0</td>\n",
       "      <td>0.0</td>\n",
       "      <td>0.0</td>\n",
       "      <td>0.0</td>\n",
       "      <td>1.0</td>\n",
       "      <td>0.0</td>\n",
       "      <td>0.0</td>\n",
       "      <td>0.0</td>\n",
       "      <td>0.0</td>\n",
       "      <td>0.0</td>\n",
       "    </tr>\n",
       "    <tr>\n",
       "      <th>...</th>\n",
       "      <td>...</td>\n",
       "      <td>...</td>\n",
       "      <td>...</td>\n",
       "      <td>...</td>\n",
       "      <td>...</td>\n",
       "      <td>...</td>\n",
       "      <td>...</td>\n",
       "      <td>...</td>\n",
       "      <td>...</td>\n",
       "      <td>...</td>\n",
       "      <td>...</td>\n",
       "      <td>...</td>\n",
       "      <td>...</td>\n",
       "      <td>...</td>\n",
       "      <td>...</td>\n",
       "      <td>...</td>\n",
       "      <td>...</td>\n",
       "      <td>...</td>\n",
       "      <td>...</td>\n",
       "      <td>...</td>\n",
       "      <td>...</td>\n",
       "    </tr>\n",
       "    <tr>\n",
       "      <th>16758814.0</th>\n",
       "      <td>12.346902</td>\n",
       "      <td>-0.801800</td>\n",
       "      <td>12.346902</td>\n",
       "      <td>0.024123</td>\n",
       "      <td>0.682518</td>\n",
       "      <td>263.293</td>\n",
       "      <td>246.157</td>\n",
       "      <td>263.11575</td>\n",
       "      <td>102.0</td>\n",
       "      <td>0.0</td>\n",
       "      <td>...</td>\n",
       "      <td>0.0</td>\n",
       "      <td>0.0</td>\n",
       "      <td>0.0</td>\n",
       "      <td>0.0</td>\n",
       "      <td>0.0</td>\n",
       "      <td>0.0</td>\n",
       "      <td>0.0</td>\n",
       "      <td>0.0</td>\n",
       "      <td>0.0</td>\n",
       "      <td>0.0</td>\n",
       "    </tr>\n",
       "    <tr>\n",
       "      <th>16758815.0</th>\n",
       "      <td>9.674588</td>\n",
       "      <td>-0.801690</td>\n",
       "      <td>9.674588</td>\n",
       "      <td>0.174259</td>\n",
       "      <td>0.635371</td>\n",
       "      <td>210.229</td>\n",
       "      <td>196.117</td>\n",
       "      <td>210.08920</td>\n",
       "      <td>82.0</td>\n",
       "      <td>0.0</td>\n",
       "      <td>...</td>\n",
       "      <td>0.0</td>\n",
       "      <td>0.0</td>\n",
       "      <td>0.0</td>\n",
       "      <td>0.0</td>\n",
       "      <td>0.0</td>\n",
       "      <td>0.0</td>\n",
       "      <td>0.0</td>\n",
       "      <td>0.0</td>\n",
       "      <td>0.0</td>\n",
       "      <td>0.0</td>\n",
       "    </tr>\n",
       "    <tr>\n",
       "      <th>16758816.0</th>\n",
       "      <td>13.390758</td>\n",
       "      <td>-1.019880</td>\n",
       "      <td>13.390758</td>\n",
       "      <td>0.162294</td>\n",
       "      <td>0.455270</td>\n",
       "      <td>397.427</td>\n",
       "      <td>374.243</td>\n",
       "      <td>397.15253</td>\n",
       "      <td>152.0</td>\n",
       "      <td>0.0</td>\n",
       "      <td>...</td>\n",
       "      <td>0.0</td>\n",
       "      <td>0.0</td>\n",
       "      <td>0.0</td>\n",
       "      <td>0.0</td>\n",
       "      <td>0.0</td>\n",
       "      <td>0.0</td>\n",
       "      <td>0.0</td>\n",
       "      <td>0.0</td>\n",
       "      <td>0.0</td>\n",
       "      <td>0.0</td>\n",
       "    </tr>\n",
       "    <tr>\n",
       "      <th>16758818.0</th>\n",
       "      <td>13.179767</td>\n",
       "      <td>-1.161112</td>\n",
       "      <td>13.179767</td>\n",
       "      <td>0.077392</td>\n",
       "      <td>0.772281</td>\n",
       "      <td>357.406</td>\n",
       "      <td>334.222</td>\n",
       "      <td>357.15762</td>\n",
       "      <td>138.0</td>\n",
       "      <td>0.0</td>\n",
       "      <td>...</td>\n",
       "      <td>0.0</td>\n",
       "      <td>0.0</td>\n",
       "      <td>0.0</td>\n",
       "      <td>0.0</td>\n",
       "      <td>0.0</td>\n",
       "      <td>0.0</td>\n",
       "      <td>0.0</td>\n",
       "      <td>0.0</td>\n",
       "      <td>0.0</td>\n",
       "      <td>0.0</td>\n",
       "    </tr>\n",
       "    <tr>\n",
       "      <th>10847630.0</th>\n",
       "      <td>10.715530</td>\n",
       "      <td>-0.480844</td>\n",
       "      <td>10.715530</td>\n",
       "      <td>0.139962</td>\n",
       "      <td>0.773508</td>\n",
       "      <td>240.259</td>\n",
       "      <td>224.131</td>\n",
       "      <td>240.11101</td>\n",
       "      <td>94.0</td>\n",
       "      <td>0.0</td>\n",
       "      <td>...</td>\n",
       "      <td>0.0</td>\n",
       "      <td>0.0</td>\n",
       "      <td>0.0</td>\n",
       "      <td>0.0</td>\n",
       "      <td>0.0</td>\n",
       "      <td>0.0</td>\n",
       "      <td>0.0</td>\n",
       "      <td>0.0</td>\n",
       "      <td>0.0</td>\n",
       "      <td>0.0</td>\n",
       "    </tr>\n",
       "  </tbody>\n",
       "</table>\n",
       "<p>11934 rows × 208 columns</p>\n",
       "</div>"
      ],
      "text/plain": [
       "            MaxEStateIndex  MinEStateIndex  MaxAbsEStateIndex  \\\n",
       "ids                                                             \n",
       "1960010.0        12.820479       -0.183140          12.820479   \n",
       "644851.0          6.126257        0.660427           6.126257   \n",
       "644890.0          5.719940       -0.219974           5.719940   \n",
       "644968.0         12.040634       -0.208718          12.040634   \n",
       "645164.0         13.082813       -0.044883          13.082813   \n",
       "...                    ...             ...                ...   \n",
       "16758814.0       12.346902       -0.801800          12.346902   \n",
       "16758815.0        9.674588       -0.801690           9.674588   \n",
       "16758816.0       13.390758       -1.019880          13.390758   \n",
       "16758818.0       13.179767       -1.161112          13.179767   \n",
       "10847630.0       10.715530       -0.480844          10.715530   \n",
       "\n",
       "            MinAbsEStateIndex       qed    MolWt  HeavyAtomMolWt  ExactMolWt  \\\n",
       "ids                                                                            \n",
       "1960010.0            0.128619  0.457873  362.476         344.332   362.07590   \n",
       "644851.0             0.660427  0.756902  255.708         245.628   255.05632   \n",
       "644890.0             0.075509  0.605920  421.549         390.301   421.25900   \n",
       "644968.0             0.006714  0.728361  324.344         308.216   324.13348   \n",
       "645164.0             0.018472  0.457249  495.628         458.332   495.29578   \n",
       "...                       ...       ...      ...             ...         ...   \n",
       "16758814.0           0.024123  0.682518  263.293         246.157   263.11575   \n",
       "16758815.0           0.174259  0.635371  210.229         196.117   210.08920   \n",
       "16758816.0           0.162294  0.455270  397.427         374.243   397.15253   \n",
       "16758818.0           0.077392  0.772281  357.406         334.222   357.15762   \n",
       "10847630.0           0.139962  0.773508  240.259         224.131   240.11101   \n",
       "\n",
       "            NumValenceElectrons  NumRadicalElectrons  ...  fr_sulfide  \\\n",
       "ids                                                   ...               \n",
       "1960010.0                 126.0                  0.0  ...         1.0   \n",
       "644851.0                   88.0                  0.0  ...         0.0   \n",
       "644890.0                  164.0                  0.0  ...         0.0   \n",
       "644968.0                  122.0                  0.0  ...         0.0   \n",
       "645164.0                  194.0                  0.0  ...         0.0   \n",
       "...                         ...                  ...  ...         ...   \n",
       "16758814.0                102.0                  0.0  ...         0.0   \n",
       "16758815.0                 82.0                  0.0  ...         0.0   \n",
       "16758816.0                152.0                  0.0  ...         0.0   \n",
       "16758818.0                138.0                  0.0  ...         0.0   \n",
       "10847630.0                 94.0                  0.0  ...         0.0   \n",
       "\n",
       "            fr_sulfonamd  fr_sulfone  fr_term_acetylene  fr_tetrazole  \\\n",
       "ids                                                                     \n",
       "1960010.0            0.0         0.0                0.0           0.0   \n",
       "644851.0             0.0         0.0                0.0           0.0   \n",
       "644890.0             0.0         0.0                0.0           1.0   \n",
       "644968.0             0.0         0.0                0.0           1.0   \n",
       "645164.0             0.0         0.0                0.0           1.0   \n",
       "...                  ...         ...                ...           ...   \n",
       "16758814.0           0.0         0.0                0.0           0.0   \n",
       "16758815.0           0.0         0.0                0.0           0.0   \n",
       "16758816.0           0.0         0.0                0.0           0.0   \n",
       "16758818.0           0.0         0.0                0.0           0.0   \n",
       "10847630.0           0.0         0.0                0.0           0.0   \n",
       "\n",
       "            fr_thiazole  fr_thiocyan  fr_thiophene  fr_unbrch_alkane  fr_urea  \n",
       "ids                                                                            \n",
       "1960010.0           0.0          0.0           0.0               1.0      0.0  \n",
       "644851.0            0.0          0.0           0.0               0.0      0.0  \n",
       "644890.0            0.0          0.0           0.0               0.0      0.0  \n",
       "644968.0            0.0          0.0           0.0               0.0      0.0  \n",
       "645164.0            0.0          0.0           0.0               0.0      0.0  \n",
       "...                 ...          ...           ...               ...      ...  \n",
       "16758814.0          0.0          0.0           0.0               0.0      0.0  \n",
       "16758815.0          0.0          0.0           0.0               0.0      0.0  \n",
       "16758816.0          0.0          0.0           0.0               0.0      0.0  \n",
       "16758818.0          0.0          0.0           0.0               0.0      0.0  \n",
       "10847630.0          0.0          0.0           0.0               0.0      0.0  \n",
       "\n",
       "[11934 rows x 208 columns]"
      ]
     },
     "execution_count": 8,
     "metadata": {},
     "output_type": "execute_result"
    }
   ],
   "source": [
    "df['ids'] = coluna_a_adicionar\n",
    "df = df.set_index('ids')\n",
    "df"
   ]
  },
  {
   "cell_type": "markdown",
   "metadata": {},
   "source": [
    "Realizamos estes passos para que as 2 tabelas ficassem com o mesmo índice e pudessemos trabalhar sobre ambas."
   ]
  },
  {
   "cell_type": "markdown",
   "metadata": {},
   "source": [
    "### Verificação de Valores Ausentes (NaN)"
   ]
  },
  {
   "cell_type": "code",
   "execution_count": 9,
   "metadata": {},
   "outputs": [
    {
     "data": {
      "text/plain": [
       "smiles    0\n",
       "Y         0\n",
       "dtype: int64"
      ]
     },
     "execution_count": 9,
     "metadata": {},
     "output_type": "execute_result"
    }
   ],
   "source": [
    "data.isna().sum()"
   ]
  },
  {
   "cell_type": "code",
   "execution_count": 10,
   "metadata": {},
   "outputs": [
    {
     "data": {
      "text/plain": [
       "MaxEStateIndex       0\n",
       "MinEStateIndex       0\n",
       "MaxAbsEStateIndex    0\n",
       "MinAbsEStateIndex    0\n",
       "qed                  0\n",
       "                    ..\n",
       "fr_thiazole          0\n",
       "fr_thiocyan          0\n",
       "fr_thiophene         0\n",
       "fr_unbrch_alkane     0\n",
       "fr_urea              0\n",
       "Length: 208, dtype: int64"
      ]
     },
     "execution_count": 10,
     "metadata": {},
     "output_type": "execute_result"
    }
   ],
   "source": [
    "df.isna().sum()"
   ]
  },
  {
   "cell_type": "markdown",
   "metadata": {},
   "source": [
    "Em ambos os datasets não há valores em falta."
   ]
  },
  {
   "cell_type": "code",
   "execution_count": 11,
   "metadata": {},
   "outputs": [
    {
     "data": {
      "text/plain": [
       "smiles    Br.C/C(=N/NC1=NCCN1)c1cn(C2=NCCN2)nc1C---c1nnc...\n",
       "Y                                                     0---1\n",
       "dtype: object"
      ]
     },
     "execution_count": 11,
     "metadata": {},
     "output_type": "execute_result"
    }
   ],
   "source": [
    "data.apply(lambda x: str(x.min())+\"---\"+str(x.max()))"
   ]
  },
  {
   "cell_type": "code",
   "execution_count": 12,
   "metadata": {},
   "outputs": [
    {
     "data": {
      "text/plain": [
       "MaxEStateIndex         2.2698839---17.398045\n",
       "MinEStateIndex              -7.6037636---3.5\n",
       "MaxAbsEStateIndex      2.2698839---17.398045\n",
       "MinAbsEStateIndex               0.0---3.8117\n",
       "qed                  0.021258056---0.9472098\n",
       "                              ...           \n",
       "fr_thiazole                        0.0---4.0\n",
       "fr_thiocyan                        0.0---1.0\n",
       "fr_thiophene                       0.0---2.0\n",
       "fr_unbrch_alkane                  0.0---26.0\n",
       "fr_urea                            0.0---4.0\n",
       "Length: 208, dtype: object"
      ]
     },
     "execution_count": 12,
     "metadata": {},
     "output_type": "execute_result"
    }
   ],
   "source": [
    "df.apply(lambda x: str(x.min())+\"---\"+str(x.max()))"
   ]
  },
  {
   "cell_type": "code",
   "execution_count": 13,
   "metadata": {},
   "outputs": [
    {
     "name": "stdout",
     "output_type": "stream",
     "text": [
      "0    7909\n",
      "1    4025\n",
      "Name: Y, dtype: int64\n"
     ]
    }
   ],
   "source": [
    "for i in data.columns[1]:\n",
    "    print(data[i].value_counts())"
   ]
  },
  {
   "cell_type": "markdown",
   "metadata": {},
   "source": [
    "Através desta análise é possível concluir que há mais SMILE drug que __não inibem__ o gene CYP2C9 do que aquelas que inibem."
   ]
  },
  {
   "cell_type": "code",
   "execution_count": 14,
   "metadata": {},
   "outputs": [
    {
     "data": {
      "text/html": [
       "<div>\n",
       "<style scoped>\n",
       "    .dataframe tbody tr th:only-of-type {\n",
       "        vertical-align: middle;\n",
       "    }\n",
       "\n",
       "    .dataframe tbody tr th {\n",
       "        vertical-align: top;\n",
       "    }\n",
       "\n",
       "    .dataframe thead th {\n",
       "        text-align: right;\n",
       "    }\n",
       "</style>\n",
       "<table border=\"1\" class=\"dataframe\">\n",
       "  <thead>\n",
       "    <tr style=\"text-align: right;\">\n",
       "      <th></th>\n",
       "      <th>MaxEStateIndex</th>\n",
       "      <th>MinEStateIndex</th>\n",
       "      <th>MaxAbsEStateIndex</th>\n",
       "      <th>MinAbsEStateIndex</th>\n",
       "      <th>qed</th>\n",
       "      <th>MolWt</th>\n",
       "      <th>HeavyAtomMolWt</th>\n",
       "      <th>ExactMolWt</th>\n",
       "      <th>NumValenceElectrons</th>\n",
       "      <th>NumRadicalElectrons</th>\n",
       "      <th>...</th>\n",
       "      <th>fr_sulfide</th>\n",
       "      <th>fr_sulfonamd</th>\n",
       "      <th>fr_sulfone</th>\n",
       "      <th>fr_term_acetylene</th>\n",
       "      <th>fr_tetrazole</th>\n",
       "      <th>fr_thiazole</th>\n",
       "      <th>fr_thiocyan</th>\n",
       "      <th>fr_thiophene</th>\n",
       "      <th>fr_unbrch_alkane</th>\n",
       "      <th>fr_urea</th>\n",
       "    </tr>\n",
       "    <tr>\n",
       "      <th>ids</th>\n",
       "      <th></th>\n",
       "      <th></th>\n",
       "      <th></th>\n",
       "      <th></th>\n",
       "      <th></th>\n",
       "      <th></th>\n",
       "      <th></th>\n",
       "      <th></th>\n",
       "      <th></th>\n",
       "      <th></th>\n",
       "      <th></th>\n",
       "      <th></th>\n",
       "      <th></th>\n",
       "      <th></th>\n",
       "      <th></th>\n",
       "      <th></th>\n",
       "      <th></th>\n",
       "      <th></th>\n",
       "      <th></th>\n",
       "      <th></th>\n",
       "      <th></th>\n",
       "    </tr>\n",
       "  </thead>\n",
       "  <tbody>\n",
       "    <tr>\n",
       "      <th>1960010.0</th>\n",
       "      <td>12.820479</td>\n",
       "      <td>-0.183140</td>\n",
       "      <td>12.820479</td>\n",
       "      <td>0.128619</td>\n",
       "      <td>0.457873</td>\n",
       "      <td>362.476</td>\n",
       "      <td>344.332</td>\n",
       "      <td>362.07590</td>\n",
       "      <td>126.0</td>\n",
       "      <td>0.0</td>\n",
       "      <td>...</td>\n",
       "      <td>1.0</td>\n",
       "      <td>0.0</td>\n",
       "      <td>0.0</td>\n",
       "      <td>0.0</td>\n",
       "      <td>0.0</td>\n",
       "      <td>0.0</td>\n",
       "      <td>0.0</td>\n",
       "      <td>0.0</td>\n",
       "      <td>1.0</td>\n",
       "      <td>0.0</td>\n",
       "    </tr>\n",
       "    <tr>\n",
       "      <th>644851.0</th>\n",
       "      <td>6.126257</td>\n",
       "      <td>0.660427</td>\n",
       "      <td>6.126257</td>\n",
       "      <td>0.660427</td>\n",
       "      <td>0.756902</td>\n",
       "      <td>255.708</td>\n",
       "      <td>245.628</td>\n",
       "      <td>255.05632</td>\n",
       "      <td>88.0</td>\n",
       "      <td>0.0</td>\n",
       "      <td>...</td>\n",
       "      <td>0.0</td>\n",
       "      <td>0.0</td>\n",
       "      <td>0.0</td>\n",
       "      <td>0.0</td>\n",
       "      <td>0.0</td>\n",
       "      <td>0.0</td>\n",
       "      <td>0.0</td>\n",
       "      <td>0.0</td>\n",
       "      <td>0.0</td>\n",
       "      <td>0.0</td>\n",
       "    </tr>\n",
       "    <tr>\n",
       "      <th>644890.0</th>\n",
       "      <td>5.719940</td>\n",
       "      <td>-0.219974</td>\n",
       "      <td>5.719940</td>\n",
       "      <td>0.075509</td>\n",
       "      <td>0.605920</td>\n",
       "      <td>421.549</td>\n",
       "      <td>390.301</td>\n",
       "      <td>421.25900</td>\n",
       "      <td>164.0</td>\n",
       "      <td>0.0</td>\n",
       "      <td>...</td>\n",
       "      <td>0.0</td>\n",
       "      <td>0.0</td>\n",
       "      <td>0.0</td>\n",
       "      <td>0.0</td>\n",
       "      <td>1.0</td>\n",
       "      <td>0.0</td>\n",
       "      <td>0.0</td>\n",
       "      <td>0.0</td>\n",
       "      <td>0.0</td>\n",
       "      <td>0.0</td>\n",
       "    </tr>\n",
       "    <tr>\n",
       "      <th>644968.0</th>\n",
       "      <td>12.040634</td>\n",
       "      <td>-0.208718</td>\n",
       "      <td>12.040634</td>\n",
       "      <td>0.006714</td>\n",
       "      <td>0.728361</td>\n",
       "      <td>324.344</td>\n",
       "      <td>308.216</td>\n",
       "      <td>324.13348</td>\n",
       "      <td>122.0</td>\n",
       "      <td>0.0</td>\n",
       "      <td>...</td>\n",
       "      <td>0.0</td>\n",
       "      <td>0.0</td>\n",
       "      <td>0.0</td>\n",
       "      <td>0.0</td>\n",
       "      <td>1.0</td>\n",
       "      <td>0.0</td>\n",
       "      <td>0.0</td>\n",
       "      <td>0.0</td>\n",
       "      <td>0.0</td>\n",
       "      <td>0.0</td>\n",
       "    </tr>\n",
       "    <tr>\n",
       "      <th>6602688.0</th>\n",
       "      <td>12.850702</td>\n",
       "      <td>-0.112825</td>\n",
       "      <td>12.850702</td>\n",
       "      <td>0.000000</td>\n",
       "      <td>0.506101</td>\n",
       "      <td>514.251</td>\n",
       "      <td>491.067</td>\n",
       "      <td>512.03815</td>\n",
       "      <td>160.0</td>\n",
       "      <td>0.0</td>\n",
       "      <td>...</td>\n",
       "      <td>0.0</td>\n",
       "      <td>0.0</td>\n",
       "      <td>0.0</td>\n",
       "      <td>0.0</td>\n",
       "      <td>0.0</td>\n",
       "      <td>0.0</td>\n",
       "      <td>0.0</td>\n",
       "      <td>0.0</td>\n",
       "      <td>0.0</td>\n",
       "      <td>0.0</td>\n",
       "    </tr>\n",
       "    <tr>\n",
       "      <th>...</th>\n",
       "      <td>...</td>\n",
       "      <td>...</td>\n",
       "      <td>...</td>\n",
       "      <td>...</td>\n",
       "      <td>...</td>\n",
       "      <td>...</td>\n",
       "      <td>...</td>\n",
       "      <td>...</td>\n",
       "      <td>...</td>\n",
       "      <td>...</td>\n",
       "      <td>...</td>\n",
       "      <td>...</td>\n",
       "      <td>...</td>\n",
       "      <td>...</td>\n",
       "      <td>...</td>\n",
       "      <td>...</td>\n",
       "      <td>...</td>\n",
       "      <td>...</td>\n",
       "      <td>...</td>\n",
       "      <td>...</td>\n",
       "      <td>...</td>\n",
       "    </tr>\n",
       "    <tr>\n",
       "      <th>11025308.0</th>\n",
       "      <td>12.740918</td>\n",
       "      <td>-1.072524</td>\n",
       "      <td>12.740918</td>\n",
       "      <td>0.076823</td>\n",
       "      <td>0.539016</td>\n",
       "      <td>380.440</td>\n",
       "      <td>356.248</td>\n",
       "      <td>380.16238</td>\n",
       "      <td>146.0</td>\n",
       "      <td>0.0</td>\n",
       "      <td>...</td>\n",
       "      <td>0.0</td>\n",
       "      <td>0.0</td>\n",
       "      <td>0.0</td>\n",
       "      <td>0.0</td>\n",
       "      <td>0.0</td>\n",
       "      <td>0.0</td>\n",
       "      <td>0.0</td>\n",
       "      <td>0.0</td>\n",
       "      <td>0.0</td>\n",
       "      <td>0.0</td>\n",
       "    </tr>\n",
       "    <tr>\n",
       "      <th>16758575.0</th>\n",
       "      <td>13.988702</td>\n",
       "      <td>-0.368662</td>\n",
       "      <td>13.988702</td>\n",
       "      <td>0.050064</td>\n",
       "      <td>0.435345</td>\n",
       "      <td>560.330</td>\n",
       "      <td>532.106</td>\n",
       "      <td>558.05176</td>\n",
       "      <td>168.0</td>\n",
       "      <td>0.0</td>\n",
       "      <td>...</td>\n",
       "      <td>0.0</td>\n",
       "      <td>0.0</td>\n",
       "      <td>0.0</td>\n",
       "      <td>0.0</td>\n",
       "      <td>0.0</td>\n",
       "      <td>0.0</td>\n",
       "      <td>0.0</td>\n",
       "      <td>0.0</td>\n",
       "      <td>0.0</td>\n",
       "      <td>0.0</td>\n",
       "    </tr>\n",
       "    <tr>\n",
       "      <th>6636331.0</th>\n",
       "      <td>5.484438</td>\n",
       "      <td>0.429265</td>\n",
       "      <td>5.484438</td>\n",
       "      <td>0.429265</td>\n",
       "      <td>0.496236</td>\n",
       "      <td>306.365</td>\n",
       "      <td>288.221</td>\n",
       "      <td>306.13684</td>\n",
       "      <td>116.0</td>\n",
       "      <td>0.0</td>\n",
       "      <td>...</td>\n",
       "      <td>0.0</td>\n",
       "      <td>0.0</td>\n",
       "      <td>0.0</td>\n",
       "      <td>0.0</td>\n",
       "      <td>0.0</td>\n",
       "      <td>0.0</td>\n",
       "      <td>0.0</td>\n",
       "      <td>0.0</td>\n",
       "      <td>0.0</td>\n",
       "      <td>0.0</td>\n",
       "    </tr>\n",
       "    <tr>\n",
       "      <th>16758581.0</th>\n",
       "      <td>12.773980</td>\n",
       "      <td>-3.673977</td>\n",
       "      <td>12.773980</td>\n",
       "      <td>0.048304</td>\n",
       "      <td>0.735219</td>\n",
       "      <td>387.545</td>\n",
       "      <td>358.313</td>\n",
       "      <td>387.18683</td>\n",
       "      <td>146.0</td>\n",
       "      <td>0.0</td>\n",
       "      <td>...</td>\n",
       "      <td>0.0</td>\n",
       "      <td>1.0</td>\n",
       "      <td>0.0</td>\n",
       "      <td>0.0</td>\n",
       "      <td>0.0</td>\n",
       "      <td>0.0</td>\n",
       "      <td>0.0</td>\n",
       "      <td>0.0</td>\n",
       "      <td>0.0</td>\n",
       "      <td>0.0</td>\n",
       "    </tr>\n",
       "    <tr>\n",
       "      <th>16758621.0</th>\n",
       "      <td>13.747912</td>\n",
       "      <td>-1.136446</td>\n",
       "      <td>13.747912</td>\n",
       "      <td>0.166250</td>\n",
       "      <td>0.259607</td>\n",
       "      <td>502.567</td>\n",
       "      <td>472.327</td>\n",
       "      <td>502.21040</td>\n",
       "      <td>192.0</td>\n",
       "      <td>0.0</td>\n",
       "      <td>...</td>\n",
       "      <td>0.0</td>\n",
       "      <td>0.0</td>\n",
       "      <td>0.0</td>\n",
       "      <td>1.0</td>\n",
       "      <td>0.0</td>\n",
       "      <td>0.0</td>\n",
       "      <td>0.0</td>\n",
       "      <td>0.0</td>\n",
       "      <td>3.0</td>\n",
       "      <td>0.0</td>\n",
       "    </tr>\n",
       "  </tbody>\n",
       "</table>\n",
       "<p>4025 rows × 208 columns</p>\n",
       "</div>"
      ],
      "text/plain": [
       "            MaxEStateIndex  MinEStateIndex  MaxAbsEStateIndex  \\\n",
       "ids                                                             \n",
       "1960010.0        12.820479       -0.183140          12.820479   \n",
       "644851.0          6.126257        0.660427           6.126257   \n",
       "644890.0          5.719940       -0.219974           5.719940   \n",
       "644968.0         12.040634       -0.208718          12.040634   \n",
       "6602688.0        12.850702       -0.112825          12.850702   \n",
       "...                    ...             ...                ...   \n",
       "11025308.0       12.740918       -1.072524          12.740918   \n",
       "16758575.0       13.988702       -0.368662          13.988702   \n",
       "6636331.0         5.484438        0.429265           5.484438   \n",
       "16758581.0       12.773980       -3.673977          12.773980   \n",
       "16758621.0       13.747912       -1.136446          13.747912   \n",
       "\n",
       "            MinAbsEStateIndex       qed    MolWt  HeavyAtomMolWt  ExactMolWt  \\\n",
       "ids                                                                            \n",
       "1960010.0            0.128619  0.457873  362.476         344.332   362.07590   \n",
       "644851.0             0.660427  0.756902  255.708         245.628   255.05632   \n",
       "644890.0             0.075509  0.605920  421.549         390.301   421.25900   \n",
       "644968.0             0.006714  0.728361  324.344         308.216   324.13348   \n",
       "6602688.0            0.000000  0.506101  514.251         491.067   512.03815   \n",
       "...                       ...       ...      ...             ...         ...   \n",
       "11025308.0           0.076823  0.539016  380.440         356.248   380.16238   \n",
       "16758575.0           0.050064  0.435345  560.330         532.106   558.05176   \n",
       "6636331.0            0.429265  0.496236  306.365         288.221   306.13684   \n",
       "16758581.0           0.048304  0.735219  387.545         358.313   387.18683   \n",
       "16758621.0           0.166250  0.259607  502.567         472.327   502.21040   \n",
       "\n",
       "            NumValenceElectrons  NumRadicalElectrons  ...  fr_sulfide  \\\n",
       "ids                                                   ...               \n",
       "1960010.0                 126.0                  0.0  ...         1.0   \n",
       "644851.0                   88.0                  0.0  ...         0.0   \n",
       "644890.0                  164.0                  0.0  ...         0.0   \n",
       "644968.0                  122.0                  0.0  ...         0.0   \n",
       "6602688.0                 160.0                  0.0  ...         0.0   \n",
       "...                         ...                  ...  ...         ...   \n",
       "11025308.0                146.0                  0.0  ...         0.0   \n",
       "16758575.0                168.0                  0.0  ...         0.0   \n",
       "6636331.0                 116.0                  0.0  ...         0.0   \n",
       "16758581.0                146.0                  0.0  ...         0.0   \n",
       "16758621.0                192.0                  0.0  ...         0.0   \n",
       "\n",
       "            fr_sulfonamd  fr_sulfone  fr_term_acetylene  fr_tetrazole  \\\n",
       "ids                                                                     \n",
       "1960010.0            0.0         0.0                0.0           0.0   \n",
       "644851.0             0.0         0.0                0.0           0.0   \n",
       "644890.0             0.0         0.0                0.0           1.0   \n",
       "644968.0             0.0         0.0                0.0           1.0   \n",
       "6602688.0            0.0         0.0                0.0           0.0   \n",
       "...                  ...         ...                ...           ...   \n",
       "11025308.0           0.0         0.0                0.0           0.0   \n",
       "16758575.0           0.0         0.0                0.0           0.0   \n",
       "6636331.0            0.0         0.0                0.0           0.0   \n",
       "16758581.0           1.0         0.0                0.0           0.0   \n",
       "16758621.0           0.0         0.0                1.0           0.0   \n",
       "\n",
       "            fr_thiazole  fr_thiocyan  fr_thiophene  fr_unbrch_alkane  fr_urea  \n",
       "ids                                                                            \n",
       "1960010.0           0.0          0.0           0.0               1.0      0.0  \n",
       "644851.0            0.0          0.0           0.0               0.0      0.0  \n",
       "644890.0            0.0          0.0           0.0               0.0      0.0  \n",
       "644968.0            0.0          0.0           0.0               0.0      0.0  \n",
       "6602688.0           0.0          0.0           0.0               0.0      0.0  \n",
       "...                 ...          ...           ...               ...      ...  \n",
       "11025308.0          0.0          0.0           0.0               0.0      0.0  \n",
       "16758575.0          0.0          0.0           0.0               0.0      0.0  \n",
       "6636331.0           0.0          0.0           0.0               0.0      0.0  \n",
       "16758581.0          0.0          0.0           0.0               0.0      0.0  \n",
       "16758621.0          0.0          0.0           0.0               3.0      0.0  \n",
       "\n",
       "[4025 rows x 208 columns]"
      ]
     },
     "execution_count": 14,
     "metadata": {},
     "output_type": "execute_result"
    }
   ],
   "source": [
    "graphic = df[data[\"Y\"] == 1]\n",
    "graphic"
   ]
  },
  {
   "cell_type": "code",
   "execution_count": 15,
   "metadata": {},
   "outputs": [
    {
     "data": {
      "text/plain": [
       "123"
      ]
     },
     "execution_count": 15,
     "metadata": {},
     "output_type": "execute_result"
    }
   ],
   "source": [
    "index = df.columns.get_loc(\"fr_Al_COO\")\n",
    "index #coluna do primeiro fragmento que aparece na tabela"
   ]
  },
  {
   "cell_type": "code",
   "execution_count": 16,
   "metadata": {},
   "outputs": [
    {
     "data": {
      "text/html": [
       "<div>\n",
       "<style scoped>\n",
       "    .dataframe tbody tr th:only-of-type {\n",
       "        vertical-align: middle;\n",
       "    }\n",
       "\n",
       "    .dataframe tbody tr th {\n",
       "        vertical-align: top;\n",
       "    }\n",
       "\n",
       "    .dataframe thead th {\n",
       "        text-align: right;\n",
       "    }\n",
       "</style>\n",
       "<table border=\"1\" class=\"dataframe\">\n",
       "  <thead>\n",
       "    <tr style=\"text-align: right;\">\n",
       "      <th></th>\n",
       "      <th>fr_Al_COO</th>\n",
       "      <th>fr_Al_OH</th>\n",
       "      <th>fr_Al_OH_noTert</th>\n",
       "      <th>fr_ArN</th>\n",
       "      <th>fr_Ar_COO</th>\n",
       "      <th>fr_Ar_N</th>\n",
       "      <th>fr_Ar_NH</th>\n",
       "      <th>fr_Ar_OH</th>\n",
       "      <th>fr_COO</th>\n",
       "      <th>fr_COO2</th>\n",
       "      <th>...</th>\n",
       "      <th>fr_sulfide</th>\n",
       "      <th>fr_sulfonamd</th>\n",
       "      <th>fr_sulfone</th>\n",
       "      <th>fr_term_acetylene</th>\n",
       "      <th>fr_tetrazole</th>\n",
       "      <th>fr_thiazole</th>\n",
       "      <th>fr_thiocyan</th>\n",
       "      <th>fr_thiophene</th>\n",
       "      <th>fr_unbrch_alkane</th>\n",
       "      <th>fr_urea</th>\n",
       "    </tr>\n",
       "    <tr>\n",
       "      <th>ids</th>\n",
       "      <th></th>\n",
       "      <th></th>\n",
       "      <th></th>\n",
       "      <th></th>\n",
       "      <th></th>\n",
       "      <th></th>\n",
       "      <th></th>\n",
       "      <th></th>\n",
       "      <th></th>\n",
       "      <th></th>\n",
       "      <th></th>\n",
       "      <th></th>\n",
       "      <th></th>\n",
       "      <th></th>\n",
       "      <th></th>\n",
       "      <th></th>\n",
       "      <th></th>\n",
       "      <th></th>\n",
       "      <th></th>\n",
       "      <th></th>\n",
       "      <th></th>\n",
       "    </tr>\n",
       "  </thead>\n",
       "  <tbody>\n",
       "    <tr>\n",
       "      <th>1960010.0</th>\n",
       "      <td>0.0</td>\n",
       "      <td>0.0</td>\n",
       "      <td>0.0</td>\n",
       "      <td>0.0</td>\n",
       "      <td>0.0</td>\n",
       "      <td>0.0</td>\n",
       "      <td>0.0</td>\n",
       "      <td>0.0</td>\n",
       "      <td>0.0</td>\n",
       "      <td>0.0</td>\n",
       "      <td>...</td>\n",
       "      <td>1.0</td>\n",
       "      <td>0.0</td>\n",
       "      <td>0.0</td>\n",
       "      <td>0.0</td>\n",
       "      <td>0.0</td>\n",
       "      <td>0.0</td>\n",
       "      <td>0.0</td>\n",
       "      <td>0.0</td>\n",
       "      <td>1.0</td>\n",
       "      <td>0.0</td>\n",
       "    </tr>\n",
       "    <tr>\n",
       "      <th>644851.0</th>\n",
       "      <td>0.0</td>\n",
       "      <td>0.0</td>\n",
       "      <td>0.0</td>\n",
       "      <td>0.0</td>\n",
       "      <td>0.0</td>\n",
       "      <td>3.0</td>\n",
       "      <td>1.0</td>\n",
       "      <td>0.0</td>\n",
       "      <td>0.0</td>\n",
       "      <td>0.0</td>\n",
       "      <td>...</td>\n",
       "      <td>0.0</td>\n",
       "      <td>0.0</td>\n",
       "      <td>0.0</td>\n",
       "      <td>0.0</td>\n",
       "      <td>0.0</td>\n",
       "      <td>0.0</td>\n",
       "      <td>0.0</td>\n",
       "      <td>0.0</td>\n",
       "      <td>0.0</td>\n",
       "      <td>0.0</td>\n",
       "    </tr>\n",
       "    <tr>\n",
       "      <th>644890.0</th>\n",
       "      <td>0.0</td>\n",
       "      <td>0.0</td>\n",
       "      <td>0.0</td>\n",
       "      <td>0.0</td>\n",
       "      <td>0.0</td>\n",
       "      <td>5.0</td>\n",
       "      <td>0.0</td>\n",
       "      <td>0.0</td>\n",
       "      <td>0.0</td>\n",
       "      <td>0.0</td>\n",
       "      <td>...</td>\n",
       "      <td>0.0</td>\n",
       "      <td>0.0</td>\n",
       "      <td>0.0</td>\n",
       "      <td>0.0</td>\n",
       "      <td>1.0</td>\n",
       "      <td>0.0</td>\n",
       "      <td>0.0</td>\n",
       "      <td>0.0</td>\n",
       "      <td>0.0</td>\n",
       "      <td>0.0</td>\n",
       "    </tr>\n",
       "    <tr>\n",
       "      <th>644968.0</th>\n",
       "      <td>0.0</td>\n",
       "      <td>0.0</td>\n",
       "      <td>0.0</td>\n",
       "      <td>0.0</td>\n",
       "      <td>0.0</td>\n",
       "      <td>5.0</td>\n",
       "      <td>0.0</td>\n",
       "      <td>0.0</td>\n",
       "      <td>0.0</td>\n",
       "      <td>0.0</td>\n",
       "      <td>...</td>\n",
       "      <td>0.0</td>\n",
       "      <td>0.0</td>\n",
       "      <td>0.0</td>\n",
       "      <td>0.0</td>\n",
       "      <td>1.0</td>\n",
       "      <td>0.0</td>\n",
       "      <td>0.0</td>\n",
       "      <td>0.0</td>\n",
       "      <td>0.0</td>\n",
       "      <td>0.0</td>\n",
       "    </tr>\n",
       "    <tr>\n",
       "      <th>6602688.0</th>\n",
       "      <td>0.0</td>\n",
       "      <td>0.0</td>\n",
       "      <td>0.0</td>\n",
       "      <td>0.0</td>\n",
       "      <td>0.0</td>\n",
       "      <td>2.0</td>\n",
       "      <td>0.0</td>\n",
       "      <td>0.0</td>\n",
       "      <td>0.0</td>\n",
       "      <td>0.0</td>\n",
       "      <td>...</td>\n",
       "      <td>0.0</td>\n",
       "      <td>0.0</td>\n",
       "      <td>0.0</td>\n",
       "      <td>0.0</td>\n",
       "      <td>0.0</td>\n",
       "      <td>0.0</td>\n",
       "      <td>0.0</td>\n",
       "      <td>0.0</td>\n",
       "      <td>0.0</td>\n",
       "      <td>0.0</td>\n",
       "    </tr>\n",
       "    <tr>\n",
       "      <th>...</th>\n",
       "      <td>...</td>\n",
       "      <td>...</td>\n",
       "      <td>...</td>\n",
       "      <td>...</td>\n",
       "      <td>...</td>\n",
       "      <td>...</td>\n",
       "      <td>...</td>\n",
       "      <td>...</td>\n",
       "      <td>...</td>\n",
       "      <td>...</td>\n",
       "      <td>...</td>\n",
       "      <td>...</td>\n",
       "      <td>...</td>\n",
       "      <td>...</td>\n",
       "      <td>...</td>\n",
       "      <td>...</td>\n",
       "      <td>...</td>\n",
       "      <td>...</td>\n",
       "      <td>...</td>\n",
       "      <td>...</td>\n",
       "      <td>...</td>\n",
       "    </tr>\n",
       "    <tr>\n",
       "      <th>11025308.0</th>\n",
       "      <td>0.0</td>\n",
       "      <td>0.0</td>\n",
       "      <td>0.0</td>\n",
       "      <td>0.0</td>\n",
       "      <td>0.0</td>\n",
       "      <td>0.0</td>\n",
       "      <td>0.0</td>\n",
       "      <td>0.0</td>\n",
       "      <td>0.0</td>\n",
       "      <td>0.0</td>\n",
       "      <td>...</td>\n",
       "      <td>0.0</td>\n",
       "      <td>0.0</td>\n",
       "      <td>0.0</td>\n",
       "      <td>0.0</td>\n",
       "      <td>0.0</td>\n",
       "      <td>0.0</td>\n",
       "      <td>0.0</td>\n",
       "      <td>0.0</td>\n",
       "      <td>0.0</td>\n",
       "      <td>0.0</td>\n",
       "    </tr>\n",
       "    <tr>\n",
       "      <th>16758575.0</th>\n",
       "      <td>0.0</td>\n",
       "      <td>0.0</td>\n",
       "      <td>0.0</td>\n",
       "      <td>0.0</td>\n",
       "      <td>0.0</td>\n",
       "      <td>0.0</td>\n",
       "      <td>0.0</td>\n",
       "      <td>0.0</td>\n",
       "      <td>0.0</td>\n",
       "      <td>0.0</td>\n",
       "      <td>...</td>\n",
       "      <td>0.0</td>\n",
       "      <td>0.0</td>\n",
       "      <td>0.0</td>\n",
       "      <td>0.0</td>\n",
       "      <td>0.0</td>\n",
       "      <td>0.0</td>\n",
       "      <td>0.0</td>\n",
       "      <td>0.0</td>\n",
       "      <td>0.0</td>\n",
       "      <td>0.0</td>\n",
       "    </tr>\n",
       "    <tr>\n",
       "      <th>6636331.0</th>\n",
       "      <td>0.0</td>\n",
       "      <td>0.0</td>\n",
       "      <td>0.0</td>\n",
       "      <td>0.0</td>\n",
       "      <td>0.0</td>\n",
       "      <td>1.0</td>\n",
       "      <td>0.0</td>\n",
       "      <td>0.0</td>\n",
       "      <td>0.0</td>\n",
       "      <td>0.0</td>\n",
       "      <td>...</td>\n",
       "      <td>0.0</td>\n",
       "      <td>0.0</td>\n",
       "      <td>0.0</td>\n",
       "      <td>0.0</td>\n",
       "      <td>0.0</td>\n",
       "      <td>0.0</td>\n",
       "      <td>0.0</td>\n",
       "      <td>0.0</td>\n",
       "      <td>0.0</td>\n",
       "      <td>0.0</td>\n",
       "    </tr>\n",
       "    <tr>\n",
       "      <th>16758581.0</th>\n",
       "      <td>0.0</td>\n",
       "      <td>0.0</td>\n",
       "      <td>0.0</td>\n",
       "      <td>0.0</td>\n",
       "      <td>0.0</td>\n",
       "      <td>0.0</td>\n",
       "      <td>0.0</td>\n",
       "      <td>0.0</td>\n",
       "      <td>0.0</td>\n",
       "      <td>0.0</td>\n",
       "      <td>...</td>\n",
       "      <td>0.0</td>\n",
       "      <td>1.0</td>\n",
       "      <td>0.0</td>\n",
       "      <td>0.0</td>\n",
       "      <td>0.0</td>\n",
       "      <td>0.0</td>\n",
       "      <td>0.0</td>\n",
       "      <td>0.0</td>\n",
       "      <td>0.0</td>\n",
       "      <td>0.0</td>\n",
       "    </tr>\n",
       "    <tr>\n",
       "      <th>16758621.0</th>\n",
       "      <td>0.0</td>\n",
       "      <td>2.0</td>\n",
       "      <td>2.0</td>\n",
       "      <td>0.0</td>\n",
       "      <td>0.0</td>\n",
       "      <td>0.0</td>\n",
       "      <td>0.0</td>\n",
       "      <td>0.0</td>\n",
       "      <td>0.0</td>\n",
       "      <td>0.0</td>\n",
       "      <td>...</td>\n",
       "      <td>0.0</td>\n",
       "      <td>0.0</td>\n",
       "      <td>0.0</td>\n",
       "      <td>1.0</td>\n",
       "      <td>0.0</td>\n",
       "      <td>0.0</td>\n",
       "      <td>0.0</td>\n",
       "      <td>0.0</td>\n",
       "      <td>3.0</td>\n",
       "      <td>0.0</td>\n",
       "    </tr>\n",
       "  </tbody>\n",
       "</table>\n",
       "<p>4025 rows × 85 columns</p>\n",
       "</div>"
      ],
      "text/plain": [
       "            fr_Al_COO  fr_Al_OH  fr_Al_OH_noTert  fr_ArN  fr_Ar_COO  fr_Ar_N  \\\n",
       "ids                                                                            \n",
       "1960010.0         0.0       0.0              0.0     0.0        0.0      0.0   \n",
       "644851.0          0.0       0.0              0.0     0.0        0.0      3.0   \n",
       "644890.0          0.0       0.0              0.0     0.0        0.0      5.0   \n",
       "644968.0          0.0       0.0              0.0     0.0        0.0      5.0   \n",
       "6602688.0         0.0       0.0              0.0     0.0        0.0      2.0   \n",
       "...               ...       ...              ...     ...        ...      ...   \n",
       "11025308.0        0.0       0.0              0.0     0.0        0.0      0.0   \n",
       "16758575.0        0.0       0.0              0.0     0.0        0.0      0.0   \n",
       "6636331.0         0.0       0.0              0.0     0.0        0.0      1.0   \n",
       "16758581.0        0.0       0.0              0.0     0.0        0.0      0.0   \n",
       "16758621.0        0.0       2.0              2.0     0.0        0.0      0.0   \n",
       "\n",
       "            fr_Ar_NH  fr_Ar_OH  fr_COO  fr_COO2  ...  fr_sulfide  \\\n",
       "ids                                              ...               \n",
       "1960010.0        0.0       0.0     0.0      0.0  ...         1.0   \n",
       "644851.0         1.0       0.0     0.0      0.0  ...         0.0   \n",
       "644890.0         0.0       0.0     0.0      0.0  ...         0.0   \n",
       "644968.0         0.0       0.0     0.0      0.0  ...         0.0   \n",
       "6602688.0        0.0       0.0     0.0      0.0  ...         0.0   \n",
       "...              ...       ...     ...      ...  ...         ...   \n",
       "11025308.0       0.0       0.0     0.0      0.0  ...         0.0   \n",
       "16758575.0       0.0       0.0     0.0      0.0  ...         0.0   \n",
       "6636331.0        0.0       0.0     0.0      0.0  ...         0.0   \n",
       "16758581.0       0.0       0.0     0.0      0.0  ...         0.0   \n",
       "16758621.0       0.0       0.0     0.0      0.0  ...         0.0   \n",
       "\n",
       "            fr_sulfonamd  fr_sulfone  fr_term_acetylene  fr_tetrazole  \\\n",
       "ids                                                                     \n",
       "1960010.0            0.0         0.0                0.0           0.0   \n",
       "644851.0             0.0         0.0                0.0           0.0   \n",
       "644890.0             0.0         0.0                0.0           1.0   \n",
       "644968.0             0.0         0.0                0.0           1.0   \n",
       "6602688.0            0.0         0.0                0.0           0.0   \n",
       "...                  ...         ...                ...           ...   \n",
       "11025308.0           0.0         0.0                0.0           0.0   \n",
       "16758575.0           0.0         0.0                0.0           0.0   \n",
       "6636331.0            0.0         0.0                0.0           0.0   \n",
       "16758581.0           1.0         0.0                0.0           0.0   \n",
       "16758621.0           0.0         0.0                1.0           0.0   \n",
       "\n",
       "            fr_thiazole  fr_thiocyan  fr_thiophene  fr_unbrch_alkane  fr_urea  \n",
       "ids                                                                            \n",
       "1960010.0           0.0          0.0           0.0               1.0      0.0  \n",
       "644851.0            0.0          0.0           0.0               0.0      0.0  \n",
       "644890.0            0.0          0.0           0.0               0.0      0.0  \n",
       "644968.0            0.0          0.0           0.0               0.0      0.0  \n",
       "6602688.0           0.0          0.0           0.0               0.0      0.0  \n",
       "...                 ...          ...           ...               ...      ...  \n",
       "11025308.0          0.0          0.0           0.0               0.0      0.0  \n",
       "16758575.0          0.0          0.0           0.0               0.0      0.0  \n",
       "6636331.0           0.0          0.0           0.0               0.0      0.0  \n",
       "16758581.0          0.0          0.0           0.0               0.0      0.0  \n",
       "16758621.0          0.0          0.0           0.0               3.0      0.0  \n",
       "\n",
       "[4025 rows x 85 columns]"
      ]
     },
     "execution_count": 16,
     "metadata": {},
     "output_type": "execute_result"
    }
   ],
   "source": [
    "frs = graphic.iloc[:, index:]\n",
    "frs #colunas que representam os fragmentos"
   ]
  },
  {
   "cell_type": "code",
   "execution_count": 17,
   "metadata": {},
   "outputs": [
    {
     "data": {
      "text/html": [
       "<div>\n",
       "<style scoped>\n",
       "    .dataframe tbody tr th:only-of-type {\n",
       "        vertical-align: middle;\n",
       "    }\n",
       "\n",
       "    .dataframe tbody tr th {\n",
       "        vertical-align: top;\n",
       "    }\n",
       "\n",
       "    .dataframe thead th {\n",
       "        text-align: right;\n",
       "    }\n",
       "</style>\n",
       "<table border=\"1\" class=\"dataframe\">\n",
       "  <thead>\n",
       "    <tr style=\"text-align: right;\">\n",
       "      <th></th>\n",
       "      <th>fr_Al_COO</th>\n",
       "      <th>fr_Al_OH</th>\n",
       "      <th>fr_Al_OH_noTert</th>\n",
       "      <th>fr_ArN</th>\n",
       "      <th>fr_Ar_COO</th>\n",
       "      <th>fr_Ar_N</th>\n",
       "      <th>fr_Ar_NH</th>\n",
       "      <th>fr_Ar_OH</th>\n",
       "      <th>fr_COO</th>\n",
       "      <th>fr_COO2</th>\n",
       "      <th>...</th>\n",
       "      <th>fr_sulfide</th>\n",
       "      <th>fr_sulfonamd</th>\n",
       "      <th>fr_sulfone</th>\n",
       "      <th>fr_term_acetylene</th>\n",
       "      <th>fr_tetrazole</th>\n",
       "      <th>fr_thiazole</th>\n",
       "      <th>fr_thiocyan</th>\n",
       "      <th>fr_thiophene</th>\n",
       "      <th>fr_unbrch_alkane</th>\n",
       "      <th>fr_urea</th>\n",
       "    </tr>\n",
       "  </thead>\n",
       "  <tbody>\n",
       "    <tr>\n",
       "      <th>count</th>\n",
       "      <td>4025.000000</td>\n",
       "      <td>4025.000000</td>\n",
       "      <td>4025.000000</td>\n",
       "      <td>4025.000000</td>\n",
       "      <td>4025.000000</td>\n",
       "      <td>4025.000000</td>\n",
       "      <td>4025.000000</td>\n",
       "      <td>4025.000000</td>\n",
       "      <td>4025.000000</td>\n",
       "      <td>4025.000000</td>\n",
       "      <td>...</td>\n",
       "      <td>4025.000000</td>\n",
       "      <td>4025.000000</td>\n",
       "      <td>4025.000000</td>\n",
       "      <td>4025.000000</td>\n",
       "      <td>4025.000000</td>\n",
       "      <td>4025.000000</td>\n",
       "      <td>4025.0</td>\n",
       "      <td>4025.000000</td>\n",
       "      <td>4025.000000</td>\n",
       "      <td>4025.000000</td>\n",
       "    </tr>\n",
       "    <tr>\n",
       "      <th>mean</th>\n",
       "      <td>0.019130</td>\n",
       "      <td>0.052671</td>\n",
       "      <td>0.042733</td>\n",
       "      <td>0.031553</td>\n",
       "      <td>0.011429</td>\n",
       "      <td>1.419379</td>\n",
       "      <td>0.107081</td>\n",
       "      <td>0.068571</td>\n",
       "      <td>0.030559</td>\n",
       "      <td>0.030559</td>\n",
       "      <td>...</td>\n",
       "      <td>0.164472</td>\n",
       "      <td>0.100373</td>\n",
       "      <td>0.014410</td>\n",
       "      <td>0.002733</td>\n",
       "      <td>0.013416</td>\n",
       "      <td>0.054907</td>\n",
       "      <td>0.0</td>\n",
       "      <td>0.108571</td>\n",
       "      <td>0.090683</td>\n",
       "      <td>0.033292</td>\n",
       "    </tr>\n",
       "    <tr>\n",
       "      <th>std</th>\n",
       "      <td>0.169439</td>\n",
       "      <td>0.253619</td>\n",
       "      <td>0.228798</td>\n",
       "      <td>0.185852</td>\n",
       "      <td>0.117413</td>\n",
       "      <td>1.456466</td>\n",
       "      <td>0.330991</td>\n",
       "      <td>0.346480</td>\n",
       "      <td>0.207490</td>\n",
       "      <td>0.207490</td>\n",
       "      <td>...</td>\n",
       "      <td>0.397907</td>\n",
       "      <td>0.311895</td>\n",
       "      <td>0.119188</td>\n",
       "      <td>0.052212</td>\n",
       "      <td>0.117203</td>\n",
       "      <td>0.240560</td>\n",
       "      <td>0.0</td>\n",
       "      <td>0.325198</td>\n",
       "      <td>0.500968</td>\n",
       "      <td>0.186217</td>\n",
       "    </tr>\n",
       "    <tr>\n",
       "      <th>min</th>\n",
       "      <td>0.000000</td>\n",
       "      <td>0.000000</td>\n",
       "      <td>0.000000</td>\n",
       "      <td>0.000000</td>\n",
       "      <td>0.000000</td>\n",
       "      <td>0.000000</td>\n",
       "      <td>0.000000</td>\n",
       "      <td>0.000000</td>\n",
       "      <td>0.000000</td>\n",
       "      <td>0.000000</td>\n",
       "      <td>...</td>\n",
       "      <td>0.000000</td>\n",
       "      <td>0.000000</td>\n",
       "      <td>0.000000</td>\n",
       "      <td>0.000000</td>\n",
       "      <td>0.000000</td>\n",
       "      <td>0.000000</td>\n",
       "      <td>0.0</td>\n",
       "      <td>0.000000</td>\n",
       "      <td>0.000000</td>\n",
       "      <td>0.000000</td>\n",
       "    </tr>\n",
       "    <tr>\n",
       "      <th>25%</th>\n",
       "      <td>0.000000</td>\n",
       "      <td>0.000000</td>\n",
       "      <td>0.000000</td>\n",
       "      <td>0.000000</td>\n",
       "      <td>0.000000</td>\n",
       "      <td>0.000000</td>\n",
       "      <td>0.000000</td>\n",
       "      <td>0.000000</td>\n",
       "      <td>0.000000</td>\n",
       "      <td>0.000000</td>\n",
       "      <td>...</td>\n",
       "      <td>0.000000</td>\n",
       "      <td>0.000000</td>\n",
       "      <td>0.000000</td>\n",
       "      <td>0.000000</td>\n",
       "      <td>0.000000</td>\n",
       "      <td>0.000000</td>\n",
       "      <td>0.0</td>\n",
       "      <td>0.000000</td>\n",
       "      <td>0.000000</td>\n",
       "      <td>0.000000</td>\n",
       "    </tr>\n",
       "    <tr>\n",
       "      <th>50%</th>\n",
       "      <td>0.000000</td>\n",
       "      <td>0.000000</td>\n",
       "      <td>0.000000</td>\n",
       "      <td>0.000000</td>\n",
       "      <td>0.000000</td>\n",
       "      <td>1.000000</td>\n",
       "      <td>0.000000</td>\n",
       "      <td>0.000000</td>\n",
       "      <td>0.000000</td>\n",
       "      <td>0.000000</td>\n",
       "      <td>...</td>\n",
       "      <td>0.000000</td>\n",
       "      <td>0.000000</td>\n",
       "      <td>0.000000</td>\n",
       "      <td>0.000000</td>\n",
       "      <td>0.000000</td>\n",
       "      <td>0.000000</td>\n",
       "      <td>0.0</td>\n",
       "      <td>0.000000</td>\n",
       "      <td>0.000000</td>\n",
       "      <td>0.000000</td>\n",
       "    </tr>\n",
       "    <tr>\n",
       "      <th>75%</th>\n",
       "      <td>0.000000</td>\n",
       "      <td>0.000000</td>\n",
       "      <td>0.000000</td>\n",
       "      <td>0.000000</td>\n",
       "      <td>0.000000</td>\n",
       "      <td>2.000000</td>\n",
       "      <td>0.000000</td>\n",
       "      <td>0.000000</td>\n",
       "      <td>0.000000</td>\n",
       "      <td>0.000000</td>\n",
       "      <td>...</td>\n",
       "      <td>0.000000</td>\n",
       "      <td>0.000000</td>\n",
       "      <td>0.000000</td>\n",
       "      <td>0.000000</td>\n",
       "      <td>0.000000</td>\n",
       "      <td>0.000000</td>\n",
       "      <td>0.0</td>\n",
       "      <td>0.000000</td>\n",
       "      <td>0.000000</td>\n",
       "      <td>0.000000</td>\n",
       "    </tr>\n",
       "    <tr>\n",
       "      <th>max</th>\n",
       "      <td>4.000000</td>\n",
       "      <td>3.000000</td>\n",
       "      <td>3.000000</td>\n",
       "      <td>2.000000</td>\n",
       "      <td>2.000000</td>\n",
       "      <td>8.000000</td>\n",
       "      <td>4.000000</td>\n",
       "      <td>5.000000</td>\n",
       "      <td>4.000000</td>\n",
       "      <td>4.000000</td>\n",
       "      <td>...</td>\n",
       "      <td>2.000000</td>\n",
       "      <td>2.000000</td>\n",
       "      <td>1.000000</td>\n",
       "      <td>1.000000</td>\n",
       "      <td>2.000000</td>\n",
       "      <td>2.000000</td>\n",
       "      <td>0.0</td>\n",
       "      <td>2.000000</td>\n",
       "      <td>13.000000</td>\n",
       "      <td>2.000000</td>\n",
       "    </tr>\n",
       "  </tbody>\n",
       "</table>\n",
       "<p>8 rows × 85 columns</p>\n",
       "</div>"
      ],
      "text/plain": [
       "         fr_Al_COO     fr_Al_OH  fr_Al_OH_noTert       fr_ArN    fr_Ar_COO  \\\n",
       "count  4025.000000  4025.000000      4025.000000  4025.000000  4025.000000   \n",
       "mean      0.019130     0.052671         0.042733     0.031553     0.011429   \n",
       "std       0.169439     0.253619         0.228798     0.185852     0.117413   \n",
       "min       0.000000     0.000000         0.000000     0.000000     0.000000   \n",
       "25%       0.000000     0.000000         0.000000     0.000000     0.000000   \n",
       "50%       0.000000     0.000000         0.000000     0.000000     0.000000   \n",
       "75%       0.000000     0.000000         0.000000     0.000000     0.000000   \n",
       "max       4.000000     3.000000         3.000000     2.000000     2.000000   \n",
       "\n",
       "           fr_Ar_N     fr_Ar_NH     fr_Ar_OH       fr_COO      fr_COO2  ...  \\\n",
       "count  4025.000000  4025.000000  4025.000000  4025.000000  4025.000000  ...   \n",
       "mean      1.419379     0.107081     0.068571     0.030559     0.030559  ...   \n",
       "std       1.456466     0.330991     0.346480     0.207490     0.207490  ...   \n",
       "min       0.000000     0.000000     0.000000     0.000000     0.000000  ...   \n",
       "25%       0.000000     0.000000     0.000000     0.000000     0.000000  ...   \n",
       "50%       1.000000     0.000000     0.000000     0.000000     0.000000  ...   \n",
       "75%       2.000000     0.000000     0.000000     0.000000     0.000000  ...   \n",
       "max       8.000000     4.000000     5.000000     4.000000     4.000000  ...   \n",
       "\n",
       "        fr_sulfide  fr_sulfonamd   fr_sulfone  fr_term_acetylene  \\\n",
       "count  4025.000000   4025.000000  4025.000000        4025.000000   \n",
       "mean      0.164472      0.100373     0.014410           0.002733   \n",
       "std       0.397907      0.311895     0.119188           0.052212   \n",
       "min       0.000000      0.000000     0.000000           0.000000   \n",
       "25%       0.000000      0.000000     0.000000           0.000000   \n",
       "50%       0.000000      0.000000     0.000000           0.000000   \n",
       "75%       0.000000      0.000000     0.000000           0.000000   \n",
       "max       2.000000      2.000000     1.000000           1.000000   \n",
       "\n",
       "       fr_tetrazole  fr_thiazole  fr_thiocyan  fr_thiophene  fr_unbrch_alkane  \\\n",
       "count   4025.000000  4025.000000       4025.0   4025.000000       4025.000000   \n",
       "mean       0.013416     0.054907          0.0      0.108571          0.090683   \n",
       "std        0.117203     0.240560          0.0      0.325198          0.500968   \n",
       "min        0.000000     0.000000          0.0      0.000000          0.000000   \n",
       "25%        0.000000     0.000000          0.0      0.000000          0.000000   \n",
       "50%        0.000000     0.000000          0.0      0.000000          0.000000   \n",
       "75%        0.000000     0.000000          0.0      0.000000          0.000000   \n",
       "max        2.000000     2.000000          0.0      2.000000         13.000000   \n",
       "\n",
       "           fr_urea  \n",
       "count  4025.000000  \n",
       "mean      0.033292  \n",
       "std       0.186217  \n",
       "min       0.000000  \n",
       "25%       0.000000  \n",
       "50%       0.000000  \n",
       "75%       0.000000  \n",
       "max       2.000000  \n",
       "\n",
       "[8 rows x 85 columns]"
      ]
     },
     "execution_count": 17,
     "metadata": {},
     "output_type": "execute_result"
    }
   ],
   "source": [
    "frs.describe()"
   ]
  },
  {
   "cell_type": "code",
   "execution_count": 18,
   "metadata": {},
   "outputs": [
    {
     "data": {
      "text/plain": [
       "fr_Ar_N            2.121294\n",
       "fr_C_O             0.888310\n",
       "fr_C_O_noCOO       0.856313\n",
       "fr_NH0             2.282394\n",
       "fr_NH1             0.594744\n",
       "fr_alkyl_halide    0.743856\n",
       "fr_amide           0.666303\n",
       "fr_aniline         0.534637\n",
       "fr_aryl_methyl     0.618849\n",
       "fr_benzene         0.706404\n",
       "fr_bicyclic        1.311414\n",
       "fr_ether           0.961382\n",
       "fr_halogen         1.306675\n",
       "dtype: float64"
      ]
     },
     "execution_count": 18,
     "metadata": {},
     "output_type": "execute_result"
    }
   ],
   "source": [
    "frs.var()[frs.var() > 0.5]"
   ]
  },
  {
   "cell_type": "code",
   "execution_count": 19,
   "metadata": {},
   "outputs": [
    {
     "data": {
      "text/plain": [
       "fr_Ar_N         1.419379\n",
       "fr_C_O          1.036770\n",
       "fr_C_O_noCOO    1.006957\n",
       "fr_NH0          2.091429\n",
       "fr_NH1          0.764224\n",
       "fr_amide        0.735404\n",
       "fr_aniline      0.587578\n",
       "fr_benzene      1.722733\n",
       "fr_bicyclic     0.820373\n",
       "fr_ether        0.799752\n",
       "fr_halogen      0.649689\n",
       "dtype: float64"
      ]
     },
     "execution_count": 19,
     "metadata": {},
     "output_type": "execute_result"
    }
   ],
   "source": [
    "frs.mean()[frs.mean() > 0.5]"
   ]
  },
  {
   "cell_type": "code",
   "execution_count": 20,
   "metadata": {},
   "outputs": [
    {
     "data": {
      "text/plain": [
       "<AxesSubplot: xlabel='ids'>"
      ]
     },
     "execution_count": 20,
     "metadata": {},
     "output_type": "execute_result"
    },
    {
     "data": {
      "image/png": "[encoded data removed]",
      "text/plain": [
       "<Figure size 432x288 with 1 Axes>"
      ]
     },
     "metadata": {
      "needs_background": "light"
     },
     "output_type": "display_data"
    }
   ],
   "source": [
    "graphic.iloc[[1,2,3,4,5,6,7,8,9,10],[128,129,150]].plot.bar()"
   ]
  },
  {
   "cell_type": "markdown",
   "metadata": {},
   "source": [
    "### Normalização"
   ]
  },
  {
   "cell_type": "code",
   "execution_count": 21,
   "metadata": {},
   "outputs": [
    {
     "data": {
      "text/plain": [
       "<AxesSubplot: xlabel='ids'>"
      ]
     },
     "execution_count": 21,
     "metadata": {},
     "output_type": "execute_result"
    },
    {
     "data": {
      "image/png": "[encoded data removed]",
      "text/plain": [
       "<Figure size 432x288 with 1 Axes>"
      ]
     },
     "metadata": {
      "needs_background": "light"
     },
     "output_type": "display_data"
    }
   ],
   "source": [
    "from sklearn import preprocessing\n",
    "\n",
    "array_data = preprocessing.scale(df)\n",
    "data_scale =  pd.DataFrame(array_data, index = df.index, columns = df.columns)\n",
    "graphic = data_scale[data[\"Y\"] == 1]\n",
    "graphic.iloc[[1,2,3,4,5,6,7,8,9,10],[128,129,150]].plot.bar()"
   ]
  },
  {
   "cell_type": "code",
   "execution_count": 22,
   "metadata": {},
   "outputs": [
    {
     "data": {
      "image/png": "[encoded data removed]",
      "text/plain": [
       "<Figure size 360x360 with 1 Axes>"
      ]
     },
     "metadata": {
      "needs_background": "light"
     },
     "output_type": "display_data"
    }
   ],
   "source": [
    "import matplotlib.pyplot as plt\n",
    "\n",
    "boxplot_data = [data_scale[\"Chi0\"], data_scale[\"Chi0n\"], data_scale[\"Chi0v\"]]\n",
    "fig = plt.figure(figsize =(5, 5)) \n",
    "ax = fig.add_axes([0, 0, 1, 1]) \n",
    "bp = ax.boxplot(boxplot_data) \n",
    "plt.show()"
   ]
  },
  {
   "cell_type": "code",
   "execution_count": 23,
   "metadata": {},
   "outputs": [
    {
     "data": {
      "image/png": "[encoded data removed]",
      "text/plain": [
       "<Figure size 360x360 with 1 Axes>"
      ]
     },
     "metadata": {
      "needs_background": "light"
     },
     "output_type": "display_data"
    }
   ],
   "source": [
    "boxplot_data = [data_scale[\"FpDensityMorgan1\"], data_scale[\"FpDensityMorgan2\"], data_scale[\"FpDensityMorgan3\"]]\n",
    "fig = plt.figure(figsize =(5, 5)) \n",
    "ax = fig.add_axes([0, 0, 1, 1]) \n",
    "bp = ax.boxplot(boxplot_data) \n",
    "plt.show()"
   ]
  },
  {
   "cell_type": "markdown",
   "metadata": {},
   "source": [
    "### Transformação Logarítmica"
   ]
  },
  {
   "cell_type": "code",
   "execution_count": 24,
   "metadata": {},
   "outputs": [
    {
     "name": "stderr",
     "output_type": "stream",
     "text": [
      "C:\\Users\\lucia\\AppData\\Roaming\\Python\\Python38\\site-packages\\pandas\\core\\internals\\blocks.py:351: RuntimeWarning: divide by zero encountered in log2\n",
      "  result = func(self.values, **kwargs)\n",
      "C:\\Users\\lucia\\AppData\\Roaming\\Python\\Python38\\site-packages\\pandas\\core\\internals\\blocks.py:351: RuntimeWarning: invalid value encountered in log2\n",
      "  result = func(self.values, **kwargs)\n"
     ]
    },
    {
     "data": {
      "text/plain": [
       "MaxEStateIndex          1.182618508451107---4.120853295946104\n",
       "MinEStateIndex                      -inf---1.8073549220576042\n",
       "MaxAbsEStateIndex       1.182618508451107---4.120853295946104\n",
       "MinAbsEStateIndex                   -inf---1.9304345763454611\n",
       "qed                  -5.55584651799473----0.07824408746540967\n",
       "                                       ...                   \n",
       "fr_thiazole                                        -inf---2.0\n",
       "fr_thiocyan                                        -inf---0.0\n",
       "fr_thiophene                                       -inf---1.0\n",
       "fr_unbrch_alkane                     -inf---4.700439718141092\n",
       "fr_urea                                            -inf---2.0\n",
       "Length: 208, dtype: object"
      ]
     },
     "execution_count": 24,
     "metadata": {},
     "output_type": "execute_result"
    }
   ],
   "source": [
    "import numpy as np\n",
    "\n",
    "log_data = np.log2(df)\n",
    "log_data.apply(lambda x: str(x.min())+\"---\"+str( x.max()))"
   ]
  },
  {
   "cell_type": "code",
   "execution_count": 25,
   "metadata": {},
   "outputs": [
    {
     "data": {
      "image/png": "[encoded data removed]",
      "text/plain": [
       "<Figure size 504x504 with 1 Axes>"
      ]
     },
     "metadata": {
      "needs_background": "light"
     },
     "output_type": "display_data"
    }
   ],
   "source": [
    "sel_log_data = log_data.iloc[:,5].values\n",
    "\n",
    "fig = plt.figure(figsize =(7, 7)) \n",
    "ax = fig.add_axes([0, 0, 1, 1]) \n",
    "bp = ax.boxplot(sel_log_data) \n",
    "plt.show()"
   ]
  },
  {
   "cell_type": "markdown",
   "metadata": {},
   "source": [
    "### Estatística Descritiva"
   ]
  },
  {
   "cell_type": "code",
   "execution_count": 26,
   "metadata": {},
   "outputs": [
    {
     "data": {
      "text/plain": [
       "(array([1505.,  816.,  841.,  357.,    0.,  416.,   66.,   20.,    2.,\n",
       "           2.]),\n",
       " array([0. , 0.8, 1.6, 2.4, 3.2, 4. , 4.8, 5.6, 6.4, 7.2, 8. ]),\n",
       " <BarContainer object of 10 artists>)"
      ]
     },
     "execution_count": 26,
     "metadata": {},
     "output_type": "execute_result"
    },
    {
     "data": {
      "image/png": "[encoded data removed]",
      "text/plain": [
       "<Figure size 432x288 with 1 Axes>"
      ]
     },
     "metadata": {
      "needs_background": "light"
     },
     "output_type": "display_data"
    }
   ],
   "source": [
    "hist_data_1 = df[\"fr_Ar_N\"][data[\"Y\"] == 1]\n",
    "\n",
    "plt.hist(hist_data_1)"
   ]
  },
  {
   "cell_type": "code",
   "execution_count": 27,
   "metadata": {},
   "outputs": [
    {
     "data": {
      "text/plain": [
       "(array([3813., 1067., 1441.,  493.,    0.,  941.,  107.,   34.,    0.,\n",
       "          13.]),\n",
       " array([0. , 0.8, 1.6, 2.4, 3.2, 4. , 4.8, 5.6, 6.4, 7.2, 8. ]),\n",
       " <BarContainer object of 10 artists>)"
      ]
     },
     "execution_count": 27,
     "metadata": {},
     "output_type": "execute_result"
    },
    {
     "data": {
      "image/png": "[encoded data removed]",
      "text/plain": [
       "<Figure size 432x288 with 1 Axes>"
      ]
     },
     "metadata": {
      "needs_background": "light"
     },
     "output_type": "display_data"
    }
   ],
   "source": [
    "hist_data_2 = df[\"fr_Ar_N\"][data[\"Y\"] == 0]\n",
    "\n",
    "plt.hist(hist_data_2)"
   ]
  },
  {
   "cell_type": "markdown",
   "metadata": {},
   "source": [
    "__R:__ Após análise dos dois histogramas conseguimos perceber que, o fragmento _Ar\\_N_ está mais presente a nível de contagens nas SMILE drugs que não inibem o gene CYP2C9 do que naquelas que o inibem o que nos pode levar a concluir de certa forma que a sua presença/ausência influencia a inibição ou não inibição do gene."
   ]
  },
  {
   "cell_type": "code",
   "execution_count": 28,
   "metadata": {},
   "outputs": [
    {
     "name": "stdout",
     "output_type": "stream",
     "text": [
      "t-test statistic: 5.18\n",
      "p-value: 0.00000022\n"
     ]
    }
   ],
   "source": [
    "from scipy.stats import ttest_ind\n",
    "\n",
    "test_statistic, p_value = ttest_ind(hist_data_1, hist_data_2, equal_var=True)\n",
    "print(\"t-test statistic: {:.2f}\".format(test_statistic))\n",
    "print(\"p-value: {:.8f}\".format(p_value))"
   ]
  },
  {
   "cell_type": "markdown",
   "metadata": {},
   "source": [
    "__R:__ Sendo _p\\_value_ menor que 0.05, rejeita-se H0, pelo que se conclui que não há evidências significativas de que as médias das duas amostras sejam semelhantes."
   ]
  },
  {
   "cell_type": "code",
   "execution_count": 29,
   "metadata": {},
   "outputs": [
    {
     "data": {
      "text/plain": [
       "Index(['MaxEStateIndex', 'MinEStateIndex', 'MaxAbsEStateIndex',\n",
       "       'MinAbsEStateIndex', 'qed', 'MolWt', 'HeavyAtomMolWt', 'ExactMolWt',\n",
       "       'NumValenceElectrons', 'MaxPartialCharge',\n",
       "       ...\n",
       "       'fr_pyridine', 'fr_quatN', 'fr_sulfide', 'fr_sulfonamd', 'fr_sulfone',\n",
       "       'fr_tetrazole', 'fr_thiazole', 'fr_thiophene', 'fr_unbrch_alkane',\n",
       "       'fr_urea'],\n",
       "      dtype='object', length=171)"
      ]
     },
     "execution_count": 29,
     "metadata": {},
     "output_type": "execute_result"
    }
   ],
   "source": [
    "from scipy import stats\n",
    "\n",
    "databs_de_tt = lambda x : stats.ttest_ind(x[data['Y'] == 0],x[data['Y'] == 1])\n",
    "\n",
    "df.columns[df.apply(lambda x: databs_de_tt(x)[1] < 0.05)]"
   ]
  },
  {
   "cell_type": "markdown",
   "metadata": {},
   "source": [
    "__R:__ Esta análise permite identificar quais as colunas que têm valores significativamente diferentes entre os dois grupos: _0 (não inibição do gene) e 1 (inibição do gene)_. "
   ]
  },
  {
   "cell_type": "code",
   "execution_count": 30,
   "metadata": {},
   "outputs": [
    {
     "data": {
      "image/png": "[encoded data removed]",
      "text/plain": [
       "<Figure size 576x432 with 1 Axes>"
      ]
     },
     "metadata": {
      "needs_background": "light"
     },
     "output_type": "display_data"
    }
   ],
   "source": [
    "data_fr_Ar_N = df.fr_Ar_N\n",
    "fig = plt.figure(figsize=(8,6))\n",
    "ax = fig.add_subplot(111)\n",
    "stats.probplot(data_fr_Ar_N, dist=\"norm\", plot=ax)\n",
    "plt.xlabel(\"Theoretical Quantiles (Normal)\")\n",
    "plt.ylabel(\"Sample Quantiles\")\n",
    "plt.title(\"QQ-plot of 100 random points from a uniform distribution\")\n",
    "plt.show()"
   ]
  },
  {
   "cell_type": "code",
   "execution_count": 31,
   "metadata": {},
   "outputs": [
    {
     "name": "stdout",
     "output_type": "stream",
     "text": [
      "Shapiro-Wilk p-value:  ShapiroResult(statistic=0.8155251741409302, pvalue=0.0)\n"
     ]
    },
    {
     "name": "stderr",
     "output_type": "stream",
     "text": [
      "C:\\Users\\lucia\\anaconda3\\lib\\site-packages\\scipy\\stats\\morestats.py:1681: UserWarning: p-value may not be accurate for N > 5000.\n",
      "  warnings.warn(\"p-value may not be accurate for N > 5000.\")\n"
     ]
    }
   ],
   "source": [
    "p_value = stats.shapiro(data_fr_Ar_N)\n",
    "print(\"Shapiro-Wilk p-value: \", p_value)"
   ]
  },
  {
   "cell_type": "markdown",
   "metadata": {},
   "source": [
    "__R:__ Conforme o resultado do Shapiro Test, podemos confirmar que os dados da coluna fr_Ar_N não seguem uma distribuição normal pelo que vamos seguir para testes não paramétricos. Sendo que estamos perante variavéis independentes, iremos realizar o teste de _Kruskal-Wallis_."
   ]
  },
  {
   "cell_type": "code",
   "execution_count": 32,
   "metadata": {},
   "outputs": [
    {
     "name": "stdout",
     "output_type": "stream",
     "text": [
      "t-test statistic: 14628190.50\n",
      "p-value: 0.00000000000001091546\n"
     ]
    }
   ],
   "source": [
    "from scipy.stats import mannwhitneyu\n",
    "\n",
    "stat, p = mannwhitneyu(hist_data_1, hist_data_2)\n",
    "print(\"t-test statistic: {:.2f}\".format(stat))\n",
    "print(\"p-value: {:.20f}\".format(p))"
   ]
  },
  {
   "cell_type": "markdown",
   "metadata": {},
   "source": [
    "__R:__ Sendo p_value menor que 0.05, rejeita-se H0, pelo que se conclui que não há evidências significativas de que as duas amostras sejam semelhantes."
   ]
  },
  {
   "cell_type": "markdown",
   "metadata": {},
   "source": [
    "### Correlação"
   ]
  },
  {
   "cell_type": "markdown",
   "metadata": {},
   "source": [
    "Visto que estamos perante amostras que não seguem uma distribuição normal, para observar a correlação entre variáveis, temos que utilizar o __método de _spearman___ cujo o coeficiente varia entre -1 e 1.\\\n",
    "Quanto mais próximo de -1, significa uma correlação quase perfeita negativa e quanto mais próximo de 1, uma correlação quase perfeita positiva. Se o valor for muito próximo de zero, assume-se que não existe correlação."
   ]
  },
  {
   "cell_type": "code",
   "execution_count": 33,
   "metadata": {},
   "outputs": [
    {
     "data": {
      "text/html": [
       "<div>\n",
       "<style scoped>\n",
       "    .dataframe tbody tr th:only-of-type {\n",
       "        vertical-align: middle;\n",
       "    }\n",
       "\n",
       "    .dataframe tbody tr th {\n",
       "        vertical-align: top;\n",
       "    }\n",
       "\n",
       "    .dataframe thead th {\n",
       "        text-align: right;\n",
       "    }\n",
       "</style>\n",
       "<table border=\"1\" class=\"dataframe\">\n",
       "  <thead>\n",
       "    <tr style=\"text-align: right;\">\n",
       "      <th></th>\n",
       "      <th>MaxEStateIndex</th>\n",
       "      <th>MinEStateIndex</th>\n",
       "      <th>MaxAbsEStateIndex</th>\n",
       "      <th>MinAbsEStateIndex</th>\n",
       "      <th>qed</th>\n",
       "      <th>MolWt</th>\n",
       "      <th>HeavyAtomMolWt</th>\n",
       "      <th>ExactMolWt</th>\n",
       "      <th>NumValenceElectrons</th>\n",
       "      <th>NumRadicalElectrons</th>\n",
       "      <th>...</th>\n",
       "      <th>fr_sulfide</th>\n",
       "      <th>fr_sulfonamd</th>\n",
       "      <th>fr_sulfone</th>\n",
       "      <th>fr_term_acetylene</th>\n",
       "      <th>fr_tetrazole</th>\n",
       "      <th>fr_thiazole</th>\n",
       "      <th>fr_thiocyan</th>\n",
       "      <th>fr_thiophene</th>\n",
       "      <th>fr_unbrch_alkane</th>\n",
       "      <th>fr_urea</th>\n",
       "    </tr>\n",
       "  </thead>\n",
       "  <tbody>\n",
       "    <tr>\n",
       "      <th>MaxEStateIndex</th>\n",
       "      <td>1.000000</td>\n",
       "      <td>-0.454620</td>\n",
       "      <td>1.000000</td>\n",
       "      <td>-0.430973</td>\n",
       "      <td>-0.202238</td>\n",
       "      <td>0.625949</td>\n",
       "      <td>0.629079</td>\n",
       "      <td>0.626667</td>\n",
       "      <td>0.635195</td>\n",
       "      <td>NaN</td>\n",
       "      <td>...</td>\n",
       "      <td>-0.024748</td>\n",
       "      <td>0.111939</td>\n",
       "      <td>0.052099</td>\n",
       "      <td>0.011812</td>\n",
       "      <td>-0.017468</td>\n",
       "      <td>0.003742</td>\n",
       "      <td>-0.011751</td>\n",
       "      <td>0.068628</td>\n",
       "      <td>-0.053263</td>\n",
       "      <td>0.104559</td>\n",
       "    </tr>\n",
       "    <tr>\n",
       "      <th>MinEStateIndex</th>\n",
       "      <td>-0.454620</td>\n",
       "      <td>1.000000</td>\n",
       "      <td>-0.454620</td>\n",
       "      <td>0.324846</td>\n",
       "      <td>0.233592</td>\n",
       "      <td>-0.295369</td>\n",
       "      <td>-0.307112</td>\n",
       "      <td>-0.295367</td>\n",
       "      <td>-0.275050</td>\n",
       "      <td>NaN</td>\n",
       "      <td>...</td>\n",
       "      <td>0.065517</td>\n",
       "      <td>-0.386583</td>\n",
       "      <td>-0.143924</td>\n",
       "      <td>-0.029194</td>\n",
       "      <td>0.016781</td>\n",
       "      <td>0.032210</td>\n",
       "      <td>0.013211</td>\n",
       "      <td>0.052837</td>\n",
       "      <td>0.009153</td>\n",
       "      <td>-0.024296</td>\n",
       "    </tr>\n",
       "    <tr>\n",
       "      <th>MaxAbsEStateIndex</th>\n",
       "      <td>1.000000</td>\n",
       "      <td>-0.454620</td>\n",
       "      <td>1.000000</td>\n",
       "      <td>-0.430973</td>\n",
       "      <td>-0.202238</td>\n",
       "      <td>0.625949</td>\n",
       "      <td>0.629079</td>\n",
       "      <td>0.626667</td>\n",
       "      <td>0.635195</td>\n",
       "      <td>NaN</td>\n",
       "      <td>...</td>\n",
       "      <td>-0.024748</td>\n",
       "      <td>0.111939</td>\n",
       "      <td>0.052099</td>\n",
       "      <td>0.011812</td>\n",
       "      <td>-0.017468</td>\n",
       "      <td>0.003742</td>\n",
       "      <td>-0.011751</td>\n",
       "      <td>0.068628</td>\n",
       "      <td>-0.053263</td>\n",
       "      <td>0.104559</td>\n",
       "    </tr>\n",
       "    <tr>\n",
       "      <th>MinAbsEStateIndex</th>\n",
       "      <td>-0.430973</td>\n",
       "      <td>0.324846</td>\n",
       "      <td>-0.430973</td>\n",
       "      <td>1.000000</td>\n",
       "      <td>0.111151</td>\n",
       "      <td>-0.309719</td>\n",
       "      <td>-0.305237</td>\n",
       "      <td>-0.310025</td>\n",
       "      <td>-0.317363</td>\n",
       "      <td>NaN</td>\n",
       "      <td>...</td>\n",
       "      <td>-0.009666</td>\n",
       "      <td>-0.057157</td>\n",
       "      <td>-0.057140</td>\n",
       "      <td>0.001826</td>\n",
       "      <td>-0.006773</td>\n",
       "      <td>0.005142</td>\n",
       "      <td>0.004968</td>\n",
       "      <td>0.025045</td>\n",
       "      <td>-0.013535</td>\n",
       "      <td>-0.072639</td>\n",
       "    </tr>\n",
       "    <tr>\n",
       "      <th>qed</th>\n",
       "      <td>-0.202238</td>\n",
       "      <td>0.233592</td>\n",
       "      <td>-0.202238</td>\n",
       "      <td>0.111151</td>\n",
       "      <td>1.000000</td>\n",
       "      <td>-0.493341</td>\n",
       "      <td>-0.503561</td>\n",
       "      <td>-0.493189</td>\n",
       "      <td>-0.452775</td>\n",
       "      <td>NaN</td>\n",
       "      <td>...</td>\n",
       "      <td>-0.115548</td>\n",
       "      <td>0.056504</td>\n",
       "      <td>0.021674</td>\n",
       "      <td>-0.056464</td>\n",
       "      <td>-0.016211</td>\n",
       "      <td>-0.005037</td>\n",
       "      <td>-0.001644</td>\n",
       "      <td>-0.035592</td>\n",
       "      <td>-0.149426</td>\n",
       "      <td>0.154229</td>\n",
       "    </tr>\n",
       "    <tr>\n",
       "      <th>...</th>\n",
       "      <td>...</td>\n",
       "      <td>...</td>\n",
       "      <td>...</td>\n",
       "      <td>...</td>\n",
       "      <td>...</td>\n",
       "      <td>...</td>\n",
       "      <td>...</td>\n",
       "      <td>...</td>\n",
       "      <td>...</td>\n",
       "      <td>...</td>\n",
       "      <td>...</td>\n",
       "      <td>...</td>\n",
       "      <td>...</td>\n",
       "      <td>...</td>\n",
       "      <td>...</td>\n",
       "      <td>...</td>\n",
       "      <td>...</td>\n",
       "      <td>...</td>\n",
       "      <td>...</td>\n",
       "      <td>...</td>\n",
       "      <td>...</td>\n",
       "    </tr>\n",
       "    <tr>\n",
       "      <th>fr_thiazole</th>\n",
       "      <td>0.003742</td>\n",
       "      <td>0.032210</td>\n",
       "      <td>0.003742</td>\n",
       "      <td>0.005142</td>\n",
       "      <td>-0.005037</td>\n",
       "      <td>0.038887</td>\n",
       "      <td>0.046241</td>\n",
       "      <td>0.038147</td>\n",
       "      <td>-0.004907</td>\n",
       "      <td>NaN</td>\n",
       "      <td>...</td>\n",
       "      <td>0.047861</td>\n",
       "      <td>0.015737</td>\n",
       "      <td>-0.009340</td>\n",
       "      <td>-0.011456</td>\n",
       "      <td>-0.012227</td>\n",
       "      <td>1.000000</td>\n",
       "      <td>-0.002287</td>\n",
       "      <td>-0.004106</td>\n",
       "      <td>-0.020157</td>\n",
       "      <td>-0.015610</td>\n",
       "    </tr>\n",
       "    <tr>\n",
       "      <th>fr_thiocyan</th>\n",
       "      <td>-0.011751</td>\n",
       "      <td>0.013211</td>\n",
       "      <td>-0.011751</td>\n",
       "      <td>0.004968</td>\n",
       "      <td>-0.001644</td>\n",
       "      <td>-0.016608</td>\n",
       "      <td>-0.016457</td>\n",
       "      <td>-0.016613</td>\n",
       "      <td>-0.017126</td>\n",
       "      <td>NaN</td>\n",
       "      <td>...</td>\n",
       "      <td>0.039584</td>\n",
       "      <td>-0.003578</td>\n",
       "      <td>-0.001369</td>\n",
       "      <td>-0.000840</td>\n",
       "      <td>-0.001266</td>\n",
       "      <td>-0.002287</td>\n",
       "      <td>1.000000</td>\n",
       "      <td>-0.003297</td>\n",
       "      <td>-0.003466</td>\n",
       "      <td>-0.002735</td>\n",
       "    </tr>\n",
       "    <tr>\n",
       "      <th>fr_thiophene</th>\n",
       "      <td>0.068628</td>\n",
       "      <td>0.052837</td>\n",
       "      <td>0.068628</td>\n",
       "      <td>0.025045</td>\n",
       "      <td>-0.035592</td>\n",
       "      <td>0.072093</td>\n",
       "      <td>0.082705</td>\n",
       "      <td>0.071176</td>\n",
       "      <td>0.019116</td>\n",
       "      <td>NaN</td>\n",
       "      <td>...</td>\n",
       "      <td>0.038803</td>\n",
       "      <td>-0.015786</td>\n",
       "      <td>-0.013563</td>\n",
       "      <td>-0.011107</td>\n",
       "      <td>-0.006857</td>\n",
       "      <td>-0.004106</td>\n",
       "      <td>-0.003297</td>\n",
       "      <td>1.000000</td>\n",
       "      <td>-0.030709</td>\n",
       "      <td>-0.034817</td>\n",
       "    </tr>\n",
       "    <tr>\n",
       "      <th>fr_unbrch_alkane</th>\n",
       "      <td>-0.053263</td>\n",
       "      <td>0.009153</td>\n",
       "      <td>-0.053263</td>\n",
       "      <td>-0.013535</td>\n",
       "      <td>-0.149426</td>\n",
       "      <td>0.014066</td>\n",
       "      <td>0.002275</td>\n",
       "      <td>0.014197</td>\n",
       "      <td>0.033832</td>\n",
       "      <td>NaN</td>\n",
       "      <td>...</td>\n",
       "      <td>0.039303</td>\n",
       "      <td>-0.001021</td>\n",
       "      <td>0.000478</td>\n",
       "      <td>0.118460</td>\n",
       "      <td>-0.015833</td>\n",
       "      <td>-0.020157</td>\n",
       "      <td>-0.003466</td>\n",
       "      <td>-0.030709</td>\n",
       "      <td>1.000000</td>\n",
       "      <td>-0.012027</td>\n",
       "    </tr>\n",
       "    <tr>\n",
       "      <th>fr_urea</th>\n",
       "      <td>0.104559</td>\n",
       "      <td>-0.024296</td>\n",
       "      <td>0.104559</td>\n",
       "      <td>-0.072639</td>\n",
       "      <td>0.154229</td>\n",
       "      <td>0.029503</td>\n",
       "      <td>0.023887</td>\n",
       "      <td>0.029935</td>\n",
       "      <td>0.053000</td>\n",
       "      <td>NaN</td>\n",
       "      <td>...</td>\n",
       "      <td>-0.036225</td>\n",
       "      <td>0.020439</td>\n",
       "      <td>-0.018388</td>\n",
       "      <td>-0.013705</td>\n",
       "      <td>-0.012114</td>\n",
       "      <td>-0.015610</td>\n",
       "      <td>-0.002735</td>\n",
       "      <td>-0.034817</td>\n",
       "      <td>-0.012027</td>\n",
       "      <td>1.000000</td>\n",
       "    </tr>\n",
       "  </tbody>\n",
       "</table>\n",
       "<p>208 rows × 208 columns</p>\n",
       "</div>"
      ],
      "text/plain": [
       "                   MaxEStateIndex  MinEStateIndex  MaxAbsEStateIndex  \\\n",
       "MaxEStateIndex           1.000000       -0.454620           1.000000   \n",
       "MinEStateIndex          -0.454620        1.000000          -0.454620   \n",
       "MaxAbsEStateIndex        1.000000       -0.454620           1.000000   \n",
       "MinAbsEStateIndex       -0.430973        0.324846          -0.430973   \n",
       "qed                     -0.202238        0.233592          -0.202238   \n",
       "...                           ...             ...                ...   \n",
       "fr_thiazole              0.003742        0.032210           0.003742   \n",
       "fr_thiocyan             -0.011751        0.013211          -0.011751   \n",
       "fr_thiophene             0.068628        0.052837           0.068628   \n",
       "fr_unbrch_alkane        -0.053263        0.009153          -0.053263   \n",
       "fr_urea                  0.104559       -0.024296           0.104559   \n",
       "\n",
       "                   MinAbsEStateIndex       qed     MolWt  HeavyAtomMolWt  \\\n",
       "MaxEStateIndex             -0.430973 -0.202238  0.625949        0.629079   \n",
       "MinEStateIndex              0.324846  0.233592 -0.295369       -0.307112   \n",
       "MaxAbsEStateIndex          -0.430973 -0.202238  0.625949        0.629079   \n",
       "MinAbsEStateIndex           1.000000  0.111151 -0.309719       -0.305237   \n",
       "qed                         0.111151  1.000000 -0.493341       -0.503561   \n",
       "...                              ...       ...       ...             ...   \n",
       "fr_thiazole                 0.005142 -0.005037  0.038887        0.046241   \n",
       "fr_thiocyan                 0.004968 -0.001644 -0.016608       -0.016457   \n",
       "fr_thiophene                0.025045 -0.035592  0.072093        0.082705   \n",
       "fr_unbrch_alkane           -0.013535 -0.149426  0.014066        0.002275   \n",
       "fr_urea                    -0.072639  0.154229  0.029503        0.023887   \n",
       "\n",
       "                   ExactMolWt  NumValenceElectrons  NumRadicalElectrons  ...  \\\n",
       "MaxEStateIndex       0.626667             0.635195                  NaN  ...   \n",
       "MinEStateIndex      -0.295367            -0.275050                  NaN  ...   \n",
       "MaxAbsEStateIndex    0.626667             0.635195                  NaN  ...   \n",
       "MinAbsEStateIndex   -0.310025            -0.317363                  NaN  ...   \n",
       "qed                 -0.493189            -0.452775                  NaN  ...   \n",
       "...                       ...                  ...                  ...  ...   \n",
       "fr_thiazole          0.038147            -0.004907                  NaN  ...   \n",
       "fr_thiocyan         -0.016613            -0.017126                  NaN  ...   \n",
       "fr_thiophene         0.071176             0.019116                  NaN  ...   \n",
       "fr_unbrch_alkane     0.014197             0.033832                  NaN  ...   \n",
       "fr_urea              0.029935             0.053000                  NaN  ...   \n",
       "\n",
       "                   fr_sulfide  fr_sulfonamd  fr_sulfone  fr_term_acetylene  \\\n",
       "MaxEStateIndex      -0.024748      0.111939    0.052099           0.011812   \n",
       "MinEStateIndex       0.065517     -0.386583   -0.143924          -0.029194   \n",
       "MaxAbsEStateIndex   -0.024748      0.111939    0.052099           0.011812   \n",
       "MinAbsEStateIndex   -0.009666     -0.057157   -0.057140           0.001826   \n",
       "qed                 -0.115548      0.056504    0.021674          -0.056464   \n",
       "...                       ...           ...         ...                ...   \n",
       "fr_thiazole          0.047861      0.015737   -0.009340          -0.011456   \n",
       "fr_thiocyan          0.039584     -0.003578   -0.001369          -0.000840   \n",
       "fr_thiophene         0.038803     -0.015786   -0.013563          -0.011107   \n",
       "fr_unbrch_alkane     0.039303     -0.001021    0.000478           0.118460   \n",
       "fr_urea             -0.036225      0.020439   -0.018388          -0.013705   \n",
       "\n",
       "                   fr_tetrazole  fr_thiazole  fr_thiocyan  fr_thiophene  \\\n",
       "MaxEStateIndex        -0.017468     0.003742    -0.011751      0.068628   \n",
       "MinEStateIndex         0.016781     0.032210     0.013211      0.052837   \n",
       "MaxAbsEStateIndex     -0.017468     0.003742    -0.011751      0.068628   \n",
       "MinAbsEStateIndex     -0.006773     0.005142     0.004968      0.025045   \n",
       "qed                   -0.016211    -0.005037    -0.001644     -0.035592   \n",
       "...                         ...          ...          ...           ...   \n",
       "fr_thiazole           -0.012227     1.000000    -0.002287     -0.004106   \n",
       "fr_thiocyan           -0.001266    -0.002287     1.000000     -0.003297   \n",
       "fr_thiophene          -0.006857    -0.004106    -0.003297      1.000000   \n",
       "fr_unbrch_alkane      -0.015833    -0.020157    -0.003466     -0.030709   \n",
       "fr_urea               -0.012114    -0.015610    -0.002735     -0.034817   \n",
       "\n",
       "                   fr_unbrch_alkane   fr_urea  \n",
       "MaxEStateIndex            -0.053263  0.104559  \n",
       "MinEStateIndex             0.009153 -0.024296  \n",
       "MaxAbsEStateIndex         -0.053263  0.104559  \n",
       "MinAbsEStateIndex         -0.013535 -0.072639  \n",
       "qed                       -0.149426  0.154229  \n",
       "...                             ...       ...  \n",
       "fr_thiazole               -0.020157 -0.015610  \n",
       "fr_thiocyan               -0.003466 -0.002735  \n",
       "fr_thiophene              -0.030709 -0.034817  \n",
       "fr_unbrch_alkane           1.000000 -0.012027  \n",
       "fr_urea                   -0.012027  1.000000  \n",
       "\n",
       "[208 rows x 208 columns]"
      ]
     },
     "execution_count": 33,
     "metadata": {},
     "output_type": "execute_result"
    }
   ],
   "source": [
    "corr_matrix_sp = df.corr(method = \"spearman\")\n",
    "corr_matrix_sp"
   ]
  },
  {
   "cell_type": "code",
   "execution_count": 34,
   "metadata": {},
   "outputs": [
    {
     "name": "stdout",
     "output_type": "stream",
     "text": [
      "Shapiro-Wilk p-value:  ShapiroResult(statistic=0.7805709838867188, pvalue=0.0)\n",
      "Shapiro-Wilk p-value:  ShapiroResult(statistic=0.9103479981422424, pvalue=0.0)\n"
     ]
    },
    {
     "name": "stderr",
     "output_type": "stream",
     "text": [
      "C:\\Users\\lucia\\anaconda3\\lib\\site-packages\\scipy\\stats\\morestats.py:1681: UserWarning: p-value may not be accurate for N > 5000.\n",
      "  warnings.warn(\"p-value may not be accurate for N > 5000.\")\n"
     ]
    }
   ],
   "source": [
    "data_MaxEStateIndex = df.MaxEStateIndex\n",
    "data_HeavyAtomMolWt = df.HeavyAtomMolWt\n",
    "\n",
    "p_value = stats.shapiro(data_MaxEStateIndex)\n",
    "print(\"Shapiro-Wilk p-value: \", p_value)\n",
    "\n",
    "p_value = stats.shapiro(data_HeavyAtomMolWt)\n",
    "print(\"Shapiro-Wilk p-value: \", p_value)"
   ]
  },
  {
   "cell_type": "code",
   "execution_count": 35,
   "metadata": {},
   "outputs": [
    {
     "data": {
      "image/png": "[encoded data removed]",
      "text/plain": [
       "<Figure size 432x288 with 1 Axes>"
      ]
     },
     "metadata": {
      "needs_background": "light"
     },
     "output_type": "display_data"
    }
   ],
   "source": [
    "plt.scatter(data_MaxEStateIndex, data_HeavyAtomMolWt)\n",
    "plt.show()"
   ]
  },
  {
   "cell_type": "code",
   "execution_count": 36,
   "metadata": {},
   "outputs": [
    {
     "data": {
      "text/plain": [
       "0.6290792214353643"
      ]
     },
     "execution_count": 36,
     "metadata": {},
     "output_type": "execute_result"
    }
   ],
   "source": [
    "sp_corr, _ = stats.spearmanr(data_MaxEStateIndex, data_HeavyAtomMolWt)\n",
    "sp_corr"
   ]
  },
  {
   "cell_type": "markdown",
   "metadata": {},
   "source": [
    "__R:__ Correlação com um coeficiente de spearman _maior que 0.5_, sendo uma correlação positiva relativamente forte."
   ]
  },
  {
   "cell_type": "code",
   "execution_count": 37,
   "metadata": {},
   "outputs": [
    {
     "name": "stdout",
     "output_type": "stream",
     "text": [
      "Shapiro-Wilk p-value:  ShapiroResult(statistic=0.8999893069267273, pvalue=0.0)\n",
      "Shapiro-Wilk p-value:  ShapiroResult(statistic=0.9815928936004639, pvalue=1.7568347448129873e-36)\n"
     ]
    }
   ],
   "source": [
    "data_num_valencia = df.NumValenceElectrons\n",
    "data_max_partial_charge = df.MaxPartialCharge\n",
    "\n",
    "p_value = stats.shapiro(data_num_valencia)\n",
    "print(\"Shapiro-Wilk p-value: \", p_value)\n",
    "\n",
    "p_value = stats.shapiro(data_max_partial_charge)\n",
    "print(\"Shapiro-Wilk p-value: \", p_value)"
   ]
  },
  {
   "cell_type": "code",
   "execution_count": 38,
   "metadata": {},
   "outputs": [
    {
     "data": {
      "image/png": "[encoded data removed]",
      "text/plain": [
       "<Figure size 432x288 with 1 Axes>"
      ]
     },
     "metadata": {
      "needs_background": "light"
     },
     "output_type": "display_data"
    }
   ],
   "source": [
    "plt.scatter(data_num_valencia, data_max_partial_charge)\n",
    "plt.show()"
   ]
  },
  {
   "cell_type": "code",
   "execution_count": 39,
   "metadata": {},
   "outputs": [
    {
     "data": {
      "text/plain": [
       "0.20489211159052126"
      ]
     },
     "execution_count": 39,
     "metadata": {},
     "output_type": "execute_result"
    }
   ],
   "source": [
    "sp_corr, _ = stats.spearmanr(data_num_valencia, data_max_partial_charge)\n",
    "sp_corr"
   ]
  },
  {
   "cell_type": "markdown",
   "metadata": {},
   "source": [
    "__R:__ Valor de coeficiente de correlação de spearman bastante próximo de zero, o que significa que não existe correlação entre as duas variáveis."
   ]
  },
  {
   "cell_type": "code",
   "execution_count": 40,
   "metadata": {},
   "outputs": [
    {
     "name": "stdout",
     "output_type": "stream",
     "text": [
      "Shapiro-Wilk p-value:  ShapiroResult(statistic=0.965814471244812, pvalue=0.0)\n"
     ]
    }
   ],
   "source": [
    "data_qed = df.qed\n",
    "\n",
    "p_value = stats.shapiro(data_qed)\n",
    "print(\"Shapiro-Wilk p-value: \", p_value)"
   ]
  },
  {
   "cell_type": "code",
   "execution_count": 41,
   "metadata": {},
   "outputs": [
    {
     "data": {
      "image/png": "[encoded data removed]",
      "text/plain": [
       "<Figure size 432x288 with 1 Axes>"
      ]
     },
     "metadata": {
      "needs_background": "light"
     },
     "output_type": "display_data"
    }
   ],
   "source": [
    "plt.scatter(data_qed, data_HeavyAtomMolWt)\n",
    "plt.show()"
   ]
  },
  {
   "cell_type": "code",
   "execution_count": 42,
   "metadata": {},
   "outputs": [
    {
     "data": {
      "text/plain": [
       "-0.5035614639850797"
      ]
     },
     "execution_count": 42,
     "metadata": {},
     "output_type": "execute_result"
    }
   ],
   "source": [
    "sp_corr, _ = stats.spearmanr(data_qed, data_HeavyAtomMolWt)\n",
    "sp_corr"
   ]
  },
  {
   "cell_type": "markdown",
   "metadata": {},
   "source": [
    "__R:__ Correlação com um coeficiente de spearman _menor que 0_, sendo uma correlação negativa relativamente forte."
   ]
  },
  {
   "cell_type": "markdown",
   "metadata": {},
   "source": [
    "### Redução da Dimensionalidade - PCA"
   ]
  },
  {
   "cell_type": "code",
   "execution_count": 43,
   "metadata": {},
   "outputs": [],
   "source": [
    "from sklearn.decomposition import PCA"
   ]
  },
  {
   "cell_type": "code",
   "execution_count": 44,
   "metadata": {},
   "outputs": [],
   "source": [
    "n = 2\n",
    "pca_cyp2c9 = PCA(n_components = n)\n",
    "pca_cyp2c9.fit(data_scale)\n",
    "x_reduced = pca_cyp2c9.transform(data_scale)"
   ]
  },
  {
   "cell_type": "code",
   "execution_count": 45,
   "metadata": {},
   "outputs": [
    {
     "name": "stdout",
     "output_type": "stream",
     "text": [
      "[0.17261402 0.07226995]\n"
     ]
    }
   ],
   "source": [
    "print(pca_cyp2c9.explained_variance_ratio_)"
   ]
  },
  {
   "cell_type": "code",
   "execution_count": 46,
   "metadata": {},
   "outputs": [
    {
     "data": {
      "image/png": "[encoded data removed]",
      "text/plain": [
       "<Figure size 432x288 with 1 Axes>"
      ]
     },
     "metadata": {
      "needs_background": "light"
     },
     "output_type": "display_data"
    }
   ],
   "source": [
    "plt.bar(range(n), pca_cyp2c9.explained_variance_ratio_*100)\n",
    "plt.xticks(range(n), ['PC' + str(i) for i in range(1, n+1)])\n",
    "plt.title(\"Variância explicada por PC\")\n",
    "plt.ylabel(\"Percentagem\")\n",
    "plt.show()"
   ]
  },
  {
   "cell_type": "markdown",
   "metadata": {},
   "source": [
    "__R:__ A componente principal 1 explica a variância dos dados em cerca de 17.2% enquanto que a segunda componente principal explica em cerca de 7.2%"
   ]
  },
  {
   "cell_type": "markdown",
   "metadata": {},
   "source": [
    "### Heatmap"
   ]
  },
  {
   "cell_type": "code",
   "execution_count": 47,
   "metadata": {},
   "outputs": [],
   "source": [
    "import seaborn as sns"
   ]
  },
  {
   "cell_type": "code",
   "execution_count": 56,
   "metadata": {},
   "outputs": [
    {
     "data": {
      "text/plain": [
       "<AxesSubplot: ylabel='ids'>"
      ]
     },
     "execution_count": 56,
     "metadata": {},
     "output_type": "execute_result"
    },
    {
     "data": {
      "image/png": "[encoded data removed]",
      "text/plain": [
       "<Figure size 432x288 with 2 Axes>"
      ]
     },
     "metadata": {
      "needs_background": "light"
     },
     "output_type": "display_data"
    }
   ],
   "source": [
    "sns.heatmap(data_scale.iloc[:25,:17]) #seleção de apenas algumas colunas e linhas"
   ]
  },
  {
   "cell_type": "markdown",
   "metadata": {},
   "source": [
    "__R:__ Através do Heatmap realizado, é possível ver a frequência de ocorrência por uma escala de -2 a 2, sendo que quanto mais negativo, mais escura é a cor e quanto mais positivo, mais clara."
   ]
  },
  {
   "cell_type": "markdown",
   "metadata": {},
   "source": [
    "### KMeans"
   ]
  },
  {
   "cell_type": "code",
   "execution_count": 49,
   "metadata": {},
   "outputs": [],
   "source": [
    "from sklearn.cluster import KMeans"
   ]
  },
  {
   "cell_type": "code",
   "execution_count": 50,
   "metadata": {},
   "outputs": [],
   "source": [
    "k = 2\n",
    "kmeans_data = KMeans(n_clusters = k, max_iter = 1000)\n",
    "kmeans_data.fit(x_reduced)\n",
    "labels = kmeans_data.predict(x_reduced)"
   ]
  },
  {
   "cell_type": "code",
   "execution_count": 51,
   "metadata": {},
   "outputs": [
    {
     "data": {
      "text/html": [
       "<div>\n",
       "<style scoped>\n",
       "    .dataframe tbody tr th:only-of-type {\n",
       "        vertical-align: middle;\n",
       "    }\n",
       "\n",
       "    .dataframe tbody tr th {\n",
       "        vertical-align: top;\n",
       "    }\n",
       "\n",
       "    .dataframe thead th {\n",
       "        text-align: right;\n",
       "    }\n",
       "</style>\n",
       "<table border=\"1\" class=\"dataframe\">\n",
       "  <thead>\n",
       "    <tr style=\"text-align: right;\">\n",
       "      <th>Y</th>\n",
       "      <th>0</th>\n",
       "      <th>1</th>\n",
       "    </tr>\n",
       "    <tr>\n",
       "      <th>inibition</th>\n",
       "      <th></th>\n",
       "      <th></th>\n",
       "    </tr>\n",
       "  </thead>\n",
       "  <tbody>\n",
       "    <tr>\n",
       "      <th>0</th>\n",
       "      <td>5498</td>\n",
       "      <td>2167</td>\n",
       "    </tr>\n",
       "    <tr>\n",
       "      <th>1</th>\n",
       "      <td>2411</td>\n",
       "      <td>1858</td>\n",
       "    </tr>\n",
       "  </tbody>\n",
       "</table>\n",
       "</div>"
      ],
      "text/plain": [
       "Y             0     1\n",
       "inibition            \n",
       "0          5498  2167\n",
       "1          2411  1858"
      ]
     },
     "execution_count": 51,
     "metadata": {},
     "output_type": "execute_result"
    }
   ],
   "source": [
    "import pandas as pd\n",
    "pd.crosstab(labels, data['Y'], rownames = ['inibition'])"
   ]
  },
  {
   "cell_type": "code",
   "execution_count": 52,
   "metadata": {},
   "outputs": [
    {
     "data": {
      "image/png": "[encoded data removed]",
      "text/plain": [
       "<Figure size 432x288 with 1 Axes>"
      ]
     },
     "metadata": {
      "needs_background": "light"
     },
     "output_type": "display_data"
    }
   ],
   "source": [
    "plt.scatter(x_reduced[:, 0], x_reduced[:, 1], c=labels)\n",
    "plt.xlabel('Componente Principal 1')\n",
    "plt.ylabel('Componente Principal 2')\n",
    "plt.title('Clustering por KMeans')\n",
    "plt.show()"
   ]
  },
  {
   "cell_type": "markdown",
   "metadata": {},
   "source": [
    "__R:__ Pelo gráfico de clustering por KMeans é possível verificar dois clusters, pela identificação de grupos de observações que são similares entre si. O primeiro, a roxo, é um cluster organizado e aglumerado enquanto que, o segundo a amarelo tem pontos mais dispersos."
   ]
  },
  {
   "cell_type": "markdown",
   "metadata": {},
   "source": [
    "### Clustering - Linkage + Dendrogram"
   ]
  },
  {
   "cell_type": "code",
   "execution_count": 72,
   "metadata": {},
   "outputs": [],
   "source": [
    "import numpy as np\n",
    "\n",
    "np.random.seed(126)\n",
    "sample_indices = np.random.choice(x_reduced.shape[0], size=1000, replace=False)\n",
    "x_sample = x_reduced[sample_indices, :]"
   ]
  },
  {
   "cell_type": "code",
   "execution_count": 73,
   "metadata": {},
   "outputs": [],
   "source": [
    "from scipy.cluster.hierarchy import linkage\n",
    "\n",
    "linkage_matrix = linkage(x_sample, method='ward')"
   ]
  },
  {
   "cell_type": "code",
   "execution_count": 74,
   "metadata": {},
   "outputs": [
    {
     "data": {
      "image/png": "[encoded data removed]",
      "text/plain": [
       "<Figure size 720x360 with 1 Axes>"
      ]
     },
     "metadata": {
      "needs_background": "light"
     },
     "output_type": "display_data"
    }
   ],
   "source": [
    "from scipy.cluster.hierarchy import dendrogram\n",
    "\n",
    "dendrogram(linkage_matrix, no_plot=True)\n",
    "\n",
    "plt.figure(figsize=(10, 5))\n",
    "plt.title('Dendrogram')\n",
    "plt.xlabel('Sample Index')\n",
    "plt.ylabel('Distance')\n",
    "dendrogram(linkage_matrix, color_threshold=0.7*max(linkage_matrix[:, 2]))\n",
    "plt.show()"
   ]
  },
  {
   "cell_type": "markdown",
   "metadata": {},
   "source": [
    "__R:__ Com uma seed = 126, conseguimos agrupar os nossos dados em 4 clusters, azul, laranja, verde e vermelho, significando que, cada um deles é semelhante entre si."
   ]
  },
  {
   "cell_type": "code",
   "execution_count": null,
   "metadata": {},
   "outputs": [],
   "source": []
  }
 ],
 "metadata": {
  "kernelspec": {
   "display_name": "Python 3",
   "language": "python",
   "name": "python3"
  },
  "language_info": {
   "codemirror_mode": {
    "name": "ipython",
    "version": 3
   },
   "file_extension": ".py",
   "mimetype": "text/x-python",
   "name": "python",
   "nbconvert_exporter": "python",
   "pygments_lexer": "ipython3",
   "version": "3.8.5"
  }
 },
 "nbformat": 4,
 "nbformat_minor": 4
}
